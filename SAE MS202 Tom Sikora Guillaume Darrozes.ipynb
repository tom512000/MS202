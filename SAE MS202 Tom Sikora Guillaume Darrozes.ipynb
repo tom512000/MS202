{
 "cells": [
  {
   "cell_type": "markdown",
   "id": "3d64cc72",
   "metadata": {},
   "source": [
    "# SAÉ S2 : LABYRINTHES"
   ]
  },
  {
   "cell_type": "markdown",
   "id": "5706033b",
   "metadata": {},
   "source": [
    "# Millésime 2023"
   ]
  },
  {
   "cell_type": "code",
   "execution_count": 208,
   "id": "60476d1d",
   "metadata": {},
   "outputs": [],
   "source": [
    "# encoding:utf-8\n",
    "#    _     __  __   _    _______   _                  _   _\n",
    "#   /_\\   |  \\/  | /_\\  |_  / __| (_)_ _    _ __ _  _| |_| |_  ___ _ _\n",
    "#  / _ \\  | |\\/| |/ _ \\  / /| _|  | | ' \\  | '_ \\ || |  _| ' \\/ _ \\ ' \\\n",
    "# /_/ \\_\\ |_|  |_/_/ \\_\\/___|___| |_|_||_| | .__/\\_, |\\__|_||_\\___/_||_|\n",
    "#                                          |_|   |__/\n",
    "# sae@butinfo:~$"
   ]
  },
  {
   "cell_type": "code",
   "execution_count": 209,
   "id": "59dfeb92",
   "metadata": {},
   "outputs": [],
   "source": [
    "from random import randint, choice, shuffle"
   ]
  },
  {
   "cell_type": "markdown",
   "id": "a0f89377",
   "metadata": {},
   "source": [
    "## 3 Implémentation"
   ]
  },
  {
   "cell_type": "code",
   "execution_count": 560,
   "id": "e3aaedf5",
   "metadata": {},
   "outputs": [],
   "source": [
    "class Maze:\n",
    "    \"\"\"\n",
    "    Classe Labyrinthe\n",
    "    Représentation sous forme de graphe non-orienté\n",
    "    dont chaque sommet est une cellule (un tuple (l,c))\n",
    "    et dont la structure est représentée par un dictionnaire\n",
    "      - clés : sommets\n",
    "      - valeurs : ensemble des sommets voisins accessibles\n",
    "    \"\"\"\n",
    "    def __init__(self, height: int, width: int, empty: bool = False) -> None:\n",
    "        \"\"\"\n",
    "        Constructeur d'un labyrinthe de height cellules de haut \n",
    "        et de width cellules de large \n",
    "        Les voisinages sont initialisés à des ensembles vides\n",
    "        Remarque : dans le labyrinthe créé, chaque cellule est complètement emmurée\n",
    "        \"\"\"\n",
    "        self.height    = height\n",
    "        self.width     = width\n",
    "        self.neighbors = {(i,j): set() for i in range(height) for j in range (width)}\n",
    "        if empty:\n",
    "            for i in range(height):\n",
    "                for j in range(width):\n",
    "                    if i > 0:\n",
    "                        self.neighbors[(i,j)].add((i-1,j))\n",
    "                        self.neighbors[(i-1,j)].add((i,j))\n",
    "                    if j > 0:\n",
    "                        self.neighbors[(i,j)].add((i,j-1))\n",
    "                        self.neighbors[(i,j-1)].add((i,j))\n",
    "                    if i < height-1:\n",
    "                        self.neighbors[(i,j)].add((i+1,j))\n",
    "                        self.neighbors[(i+1,j)].add((i,j))\n",
    "                    if j < width-1:\n",
    "                        self.neighbors[(i,j)].add((i,j+1))\n",
    "                        self.neighbors[(i,j+1)].add((i,j))\n",
    "        \n",
    "    def info(self) -> str:\n",
    "        \"\"\"\n",
    "        Affichage des attributs d'un objet 'Maze' (fonction utile pour deboguer)\n",
    "        Retour:\n",
    "            chaîne (string): description textuelle des attributs de l'objet\n",
    "        \"\"\"\n",
    "        txt = \"**Informations sur le labyrinthe**\\n\"\n",
    "        txt += f\"- Dimensions de la grille : {self.height} x {self.width}\\n\"\n",
    "        txt += \"- Voisinages :\\n\"\n",
    "        txt += str(self.neighbors)+\"\\n\"\n",
    "        valid = True\n",
    "        for c1 in {(i, j) for i in range(self.height) for j in range(self.width)}:\n",
    "            for c2 in self.neighbors[c1]:\n",
    "                if c1 not in self.neighbors[c2]:\n",
    "                    valid = False\n",
    "                    break\n",
    "            else:\n",
    "                continue\n",
    "            break\n",
    "        txt += \"- Structure cohérente\\n\" if valid else f\"- Structure incohérente : {c1} X {c2}\\n\"\n",
    "        return txt\n",
    "\n",
    "    def __str__(self) -> str:\n",
    "        \"\"\"\n",
    "        Représentation textuelle d'un objet Maze (en utilisant des caractères ascii)\n",
    "        Retour:\n",
    "             chaîne (str) : chaîne de caractères représentant le labyrinthe\n",
    "        \"\"\"\n",
    "        txt = \"\"\n",
    "        # Première ligne\n",
    "        txt += \"┏\"\n",
    "        for j in range(self.width-1):\n",
    "            txt += \"━━━┳\"\n",
    "        txt += \"━━━┓\\n\"\n",
    "        txt += \"┃\"\n",
    "        for j in range(self.width-1):\n",
    "            txt += \"   ┃\" if (0,j+1) not in self.neighbors[(0,j)] else \"    \"\n",
    "        txt += \"   ┃\\n\"\n",
    "        # Lignes normales\n",
    "        for i in range(self.height-1):\n",
    "            txt += \"┣\"\n",
    "            for j in range(self.width-1):\n",
    "                txt += \"━━━╋\" if (i+1,j) not in self.neighbors[(i,j)] else \"   ╋\"\n",
    "            txt += \"━━━┫\\n\" if (i+1,self.width-1) not in self.neighbors[(i,self.width-1)] else \"   ┫\\n\"\n",
    "            txt += \"┃\"\n",
    "            for j in range(self.width):\n",
    "                txt += \"   ┃\" if (i+1,j+1) not in self.neighbors[(i+1,j)] else \"    \"\n",
    "            txt += \"\\n\"\n",
    "        # Bas du tableau\n",
    "        txt += \"┗\"\n",
    "        for i in range(self.width-1):\n",
    "            txt += \"━━━┻\"\n",
    "        txt += \"━━━┛\\n\"\n",
    "\n",
    "        return txt\n",
    "    \n",
    "    def add_wall(self, c1: tuple, c2: tuple) -> None:\n",
    "        \"\"\"\n",
    "        Ajoute un nouveau mur entre les cellules de coordonnées c1 et c2.\n",
    "        \"\"\"\n",
    "        # Facultatif : on teste si les sommets sont bien dans le labyrinthe\n",
    "        assert 0 <= c1[0] < self.height and \\\n",
    "            0 <= c1[1] < self.width and \\\n",
    "            0 <= c2[0] < self.height and \\\n",
    "            0 <= c2[1] < self.width, \\\n",
    "            f\"Erreur lors de l'ajout d'un mur entre {c1} et {c2} : les coordonnées de sont pas compatibles avec les dimensions du labyrinthe\"\n",
    "        # Ajout du mur\n",
    "        if c2 in self.neighbors[c1]:      # Si c2 est dans les voisines de c1\n",
    "            self.neighbors[c1].remove(c2) # on le retire\n",
    "        if c1 in self.neighbors[c2]:      # Si c3 est dans les voisines de c2\n",
    "            self.neighbors[c2].remove(c1) # on le retire\n",
    "    \n",
    "    def remove_wall(self, c1: tuple, c2: tuple) -> None:\n",
    "        \"\"\"\n",
    "        Efface un mur entre les cellules de coordonnées c1 et c2.\n",
    "        \"\"\"\n",
    "        # Facultatif : on teste si les sommets sont bien dans le labyrinthe\n",
    "        assert 0 <= c1[0] < self.height and \\\n",
    "            0 <= c1[1] < self.width and \\\n",
    "            0 <= c2[0] < self.height and \\\n",
    "            0 <= c2[1] < self.width, \\\n",
    "            f\"Erreur lors de la suppression d'un mur entre {c1} et {c2} : les coordonnées de sont pas compatibles avec les dimensions du labyrinthe\"\n",
    "        # Suppression du mur\n",
    "        if c2 not in self.neighbors[c1]:  # Si c2 n'est pas dans les voisines de c1\n",
    "            self.neighbors[c1].add(c2)    # on l'ajoute\n",
    "        if c1 not in self.neighbors[c2]:  # Si c3 n'est pas dans les voisines de c2\n",
    "            self.neighbors[c2].add(c1)    # on l'ajoute\n",
    "    \n",
    "    def fill(self) -> None:\n",
    "        \"\"\"\n",
    "        Ajoute tous les murs du labyrinthe.\n",
    "        \"\"\"\n",
    "        for i in range(self.height):\n",
    "            for j in range(self.width):\n",
    "                if i > 0:\n",
    "                    self.add_wall((i,j), (i-1,j))\n",
    "                if j > 0:\n",
    "                    self.add_wall((i,j), (i,j-1))\n",
    "                if i < self.height-1:\n",
    "                    self.add_wall((i,j), (i+1,j))\n",
    "                if j < self.width-1:\n",
    "                    self.add_wall((i,j), (i,j+1))\n",
    "    \n",
    "    def empty(self) -> None:\n",
    "        \"\"\"\n",
    "        Efface tous les murs du labyrinthe.\n",
    "        \"\"\"\n",
    "        for i in range(self.height):\n",
    "            for j in range(self.width):\n",
    "                if i > 0:\n",
    "                    self.remove_wall((i,j), (i-1,j))\n",
    "                if j > 0:\n",
    "                    self.remove_wall((i,j), (i,j-1))\n",
    "                if i < self.height-1:\n",
    "                    self.remove_wall((i,j), (i+1,j))\n",
    "                if j < self.width-1:\n",
    "                    self.remove_wall((i,j), (i,j+1))\n",
    "                    \n",
    "    def get_walls(self) -> list:\n",
    "        \"\"\"\n",
    "        Affichage de tous les murs du labyrinthe.\n",
    "        Retour:\n",
    "             liste (list) : liste représentant tous les murs du labyrinthe\n",
    "        \"\"\"\n",
    "        murs = []\n",
    "        for i in range(self.height):\n",
    "            for j in range(self.width):\n",
    "                voisins = []\n",
    "                if j != self.height-1:\n",
    "                    voisins += [(i, j+1)]\n",
    "                if i != self.width-1:\n",
    "                    voisins += [(i+1, j)]\n",
    "                for k in range(len(voisins)):\n",
    "                    if voisins[k] not in self.neighbors[(i, j)]:\n",
    "                        murs.append(((i,j), voisins[k]))\n",
    "        return murs\n",
    "    \n",
    "    def get_contiguous_cells(self, c1: tuple) -> list:\n",
    "        \"\"\"\n",
    "        Affichage des murs contigus de la cellule c1 dans le labyrinthe.\n",
    "        Retour:\n",
    "             liste (list) : liste représentant les murs contigus de la cellule c1\n",
    "        \"\"\"\n",
    "        voisins = []\n",
    "        if c1[0] != self.width-1:\n",
    "            voisins += [(c1[0]+1, c1[1])]\n",
    "        if c1[1] != 0:\n",
    "            voisins += [(c1[0], c1[1]-1)]\n",
    "        if c1[1] != self.height-1:\n",
    "            voisins += [(c1[0], c1[1]+1)]\n",
    "        if c1[0] != 0:\n",
    "            voisins += [(c1[0]-1, c1[1])]\n",
    "        return voisins\n",
    "    \n",
    "    def get_reachable_cells(self, c1: tuple) -> list:\n",
    "        \"\"\"\n",
    "        Affichage des murs accessibles de la cellule c1 dans le labyrinthe.\n",
    "        Retour:\n",
    "             liste (list) : liste représentant les murs accessibles de la cellule c1\n",
    "        \"\"\"\n",
    "        accessibles = []\n",
    "        voisins = self.get_contiguous_cells(c1)\n",
    "        for i in range(len(voisins)):\n",
    "            if voisins[i] in self.neighbors[c1]:\n",
    "                        accessibles += [voisins[i]]\n",
    "        return accessibles\n",
    "    \n",
    "    @classmethod\n",
    "    def gen_btree(cls, h: int, w: int) -> list:\n",
    "        \"\"\"\n",
    "        Représentation d'un labyrinthe par algorithme de génération par arbre binaire.\n",
    "        Retour:\n",
    "             liste (list) : liste représentant un dictionnaire de cellule et de cellule(s) voisine(s)\n",
    "        \"\"\"\n",
    "        laby = Maze(h, w, empty = False)\n",
    "        for i in range(h):\n",
    "            for j in range(w):\n",
    "                if (j != h-1) and (i == w-1):\n",
    "                    laby.remove_wall((i, j), (i, j+1))\n",
    "                elif (i != w-1) and (j == h-1):\n",
    "                    laby.remove_wall((i, j), (i+1, j))\n",
    "                elif (i != w-1) and (j != h-1):\n",
    "                    hasard = randint(0,1)\n",
    "                    if hasard == 0:\n",
    "                        laby.remove_wall((i, j), (i, j+1))\n",
    "                    else:\n",
    "                        laby.remove_wall((i, j), (i+1, j))\n",
    "        return laby\n",
    "    \n",
    "    @classmethod\n",
    "    def gen_sidewinder(cls, h: int, w: int) -> list:\n",
    "        \"\"\"\n",
    "        Représentation d'un labyrinthe par algorithme de génération sidewinder.\n",
    "        Retour:\n",
    "             liste (list) : liste représentant un dictionnaire de cellule et de cellule(s) voisine(s)\n",
    "        \"\"\"\n",
    "        laby = Maze(h, w, empty = False)\n",
    "        for i in range(h-1):\n",
    "            sequence = []\n",
    "            for j in range(w-1):\n",
    "                sequence += [(i, j)]\n",
    "                hasard = randint(0,1)\n",
    "                if hasard == 0:\n",
    "                    laby.remove_wall((i, j), (i, j+1))\n",
    "                else:\n",
    "                    cell1 = choice(sequence)\n",
    "                    laby.remove_wall((cell1[0], cell1[1]), (cell1[0]+1, cell1[1]))\n",
    "                    sequence = []\n",
    "            sequence += [(i, w-1)]\n",
    "            cell2 = choice(sequence)\n",
    "            laby.remove_wall((cell2[0], cell2[1]), (cell2[0]+1, cell2[1]))\n",
    "        for k in range(w-1):\n",
    "            laby.remove_wall((h-1, k), (h-1, k+1))\n",
    "        return laby\n",
    "    \n",
    "    @classmethod\n",
    "    def gen_fusion(cls, h: int, w: int) -> list:\n",
    "        \"\"\"\n",
    "        Représentation d'un labyrinthe par algorithme de fusion de chemins.\n",
    "        Retour:\n",
    "             liste (list) : liste représentant un dictionnaire de cellule et de cellule(s) voisine(s)\n",
    "        \"\"\"\n",
    "        laby = Maze(h, w, empty = False)\n",
    "        labelise = {}\n",
    "        nb = 1\n",
    "        for i in range(h):\n",
    "            for j in range(w):\n",
    "                labelise[(i, j)] = nb\n",
    "                nb += 1\n",
    "        murs = laby.get_walls()\n",
    "        shuffle(murs)\n",
    "        for (cellule1, index) in murs:\n",
    "            if labelise[cellule1] != labelise[index]:\n",
    "                laby.remove_wall(cellule1, index)\n",
    "                verif = labelise[index]\n",
    "                for cellule3 in labelise:\n",
    "                    if labelise[cellule3] == verif:\n",
    "                        labelise[cellule3] = labelise[cellule1]\n",
    "        return laby\n",
    "    \n",
    "    @classmethod\n",
    "    def gen_exploration(cls, h: int, w: int) -> list:\n",
    "        \"\"\"\n",
    "        Représentation d'un labyrinthe par parcours en profondeur aléatoire, en cassant les murs à mesure qu’on avance.\n",
    "        Retour:\n",
    "             liste (list) : liste représentant un dictionnaire de cellule et de cellule(s) voisine(s)\n",
    "        \"\"\"\n",
    "        laby = Maze(h, w, empty = False)\n",
    "        cellule = (randint(0, h-1), randint(0, w-1))\n",
    "        marquage = [cellule]\n",
    "        Pile = [cellule]\n",
    "        while Pile:\n",
    "            cellule = Pile.pop(0)\n",
    "            VoisinsPasMarques = []\n",
    "            for value in laby.get_contiguous_cells(cellule):\n",
    "                if value not in marquage:\n",
    "                    VoisinsPasMarques += [value]\n",
    "            if VoisinsPasMarques:\n",
    "                Pile = [cellule] + Pile\n",
    "                hasard = choice(VoisinsPasMarques)\n",
    "                laby.remove_wall(cellule, hasard)\n",
    "                marquage += [hasard]\n",
    "                Pile = [hasard] + Pile\n",
    "        return laby\n",
    "    \n",
    "    @classmethod\n",
    "    def gen_wilson(cls, h: int, w: int) -> list:\n",
    "        \"\"\"\n",
    "        Représentation d'un labyrinthe par algorithme de Wilson ou marches aléatoires.\n",
    "        Retour:\n",
    "             liste (list) : liste représentant un dictionnaire de cellule et de cellule(s) voisine(s)\n",
    "        \"\"\"\n",
    "        laby = Maze(h, w, empty = False)\n",
    "        cellule = (randint(0, h-1), randint(0, w-1))\n",
    "        marquage = [cellule]\n",
    "        while len(marquage) != (h*w):\n",
    "            while cellule in marquage:\n",
    "                cellule = (randint(0, h-1), randint(0, w-1))\n",
    "            chemin = [cellule]\n",
    "            while cellule not in marquage:\n",
    "                cellule = choice(laby.get_contiguous_cells(cellule))\n",
    "                if cellule in chemin:\n",
    "                    while chemin[len(chemin)-1] != cellule:\n",
    "                        chemin.pop()\n",
    "                else:\n",
    "                    chemin += [cellule]\n",
    "            for i in range(len(chemin)-1):\n",
    "                laby.remove_wall(chemin[i], chemin[i+1])\n",
    "            chemin.pop()\n",
    "            marquage += chemin\n",
    "        return laby\n",
    "    \n",
    "    def overlay(self, content=None):\n",
    "        \"\"\"\n",
    "        Rendu en mode texte, sur la sortie standard, \\\n",
    "        d'un labyrinthe avec du contenu dans les cellules\n",
    "        Argument:\n",
    "            content (dict) : dictionnaire tq content[cell] contient le caractère à afficher au milieu de la cellule\n",
    "        Retour:\n",
    "            string\n",
    "        \"\"\"\n",
    "        if content is None:\n",
    "            content = {(i,j):' ' for i in range(self.height) for j in range(self.width)}\n",
    "        else:\n",
    "            # Python >=3.9\n",
    "            #content = content | {(i, j): ' ' for i in range(\n",
    "            #    self.height) for j in range(self.width) if (i,j) not in content}\n",
    "            # Python <3.9\n",
    "            new_content = {(i, j): ' ' for i in range(self.height) for j in range(self.width) if (i,j) not in content}\n",
    "            content = {**content, **new_content}\n",
    "        txt = r\"\"\n",
    "        # Première ligne\n",
    "        txt += \"┏\"\n",
    "        for j in range(self.width-1):\n",
    "            txt += \"━━━┳\"\n",
    "        txt += \"━━━┓\\n\"\n",
    "        txt += \"┃\"\n",
    "        for j in range(self.width-1):\n",
    "            txt += \" \"+content[(0,j)]+\" ┃\" if (0,j+1) not in self.neighbors[(0,j)] else \" \"+content[(0,j)]+\"  \"\n",
    "        txt += \" \"+content[(0,self.width-1)]+\" ┃\\n\"\n",
    "        # Lignes normales\n",
    "        for i in range(self.height-1):\n",
    "            txt += \"┣\"\n",
    "            for j in range(self.width-1):\n",
    "                txt += \"━━━╋\" if (i+1,j) not in self.neighbors[(i,j)] else \"   ╋\"\n",
    "            txt += \"━━━┫\\n\" if (i+1,self.width-1) not in self.neighbors[(i,self.width-1)] else \"   ┫\\n\"\n",
    "            txt += \"┃\"\n",
    "            for j in range(self.width):\n",
    "                txt += \" \"+content[(i+1,j)]+\" ┃\" if (i+1,j+1) not in self.neighbors[(i+1,j)] else \" \"+content[(i+1,j)]+\"  \"\n",
    "            txt += \"\\n\"\n",
    "        # Bas du tableau\n",
    "        txt += \"┗\"\n",
    "        for i in range(self.width-1):\n",
    "            txt += \"━━━┻\"\n",
    "        txt += \"━━━┛\\n\"\n",
    "        return txt\n",
    "    \n",
    "    def solve_dfs(self, start: tuple, stop: tuple) -> list:\n",
    "        \"\"\"\n",
    "        Représentation d'un labyrinthe utilisant le parcours en profondeur.\n",
    "        Retour:\n",
    "             liste (list) : liste représentant un dictionnaire de cellule et de cellule(s) voisine(s)\n",
    "        \"\"\"\n",
    "        # Parcours du graphe jusqu’à ce qu’on trouve A\n",
    "        Pile = [start]\n",
    "        marquage = [start]\n",
    "        predecesseur = {start: start}\n",
    "        res = False\n",
    "        while not res:\n",
    "            if Pile:\n",
    "                cellule = Pile.pop(0)\n",
    "            if cellule == stop:\n",
    "                res = True\n",
    "            else:\n",
    "                Voisins = self.get_reachable_cells(cellule)\n",
    "                if Voisins != [cellule]:\n",
    "                    for i in range(len(Voisins)):\n",
    "                        if Voisins[i] not in marquage:\n",
    "                            marquage += [Voisins[i]]\n",
    "                            Pile = [Voisins[i]] + Pile\n",
    "                            predecesseur[Voisins[i]] = cellule\n",
    "        # Reconstruction du chemin à partir des prédécesseurs\n",
    "        chemin = [stop]\n",
    "        cellule = stop\n",
    "        while cellule != start:\n",
    "            chemin += [cellule]\n",
    "            cellule = predecesseur[cellule]\n",
    "        return chemin\n",
    "    \n",
    "    def solve_bfs(self, start: tuple, stop: tuple) -> list:\n",
    "        \"\"\"\n",
    "        Représentation d'un labyrinthe utilisant le parcours en largeur.\n",
    "        Retour:\n",
    "             liste (list) : liste représentant un dictionnaire de cellule et de cellule(s) voisine(s)\n",
    "        \"\"\"\n",
    "        # Parcours du graphe jusqu’à ce qu’on trouve A\n",
    "        Pile = [start]\n",
    "        marquage = [start]\n",
    "        predecesseur = {start: start}\n",
    "        res = False\n",
    "        while not res:\n",
    "            if Pile:\n",
    "                cellule = Pile.pop(0)\n",
    "            if cellule == stop:\n",
    "                res = True\n",
    "            else:\n",
    "                Voisins = self.get_reachable_cells(cellule)\n",
    "                if Voisins != [cellule]:\n",
    "                    for i in range(len(Voisins)):\n",
    "                        if Voisins[i] not in marquage:\n",
    "                            marquage += [Voisins[i]]\n",
    "                            Pile += [Voisins[i]]\n",
    "                            predecesseur[Voisins[i]] = cellule\n",
    "        # Reconstruction du chemin à partir des prédécesseurs\n",
    "        chemin = [stop]\n",
    "        cellule = stop\n",
    "        while cellule != start:\n",
    "            chemin += [cellule]\n",
    "            cellule = predecesseur[cellule]\n",
    "        return chemin\n",
    "    \n",
    "    def solve_rhr(self, start: tuple, stop: tuple) -> list:\n",
    "        \"\"\"\n",
    "        Représentation d'un labyrinthe par algorithme de la main droite.\n",
    "        Retour:\n",
    "             liste (list) : liste représentant un dictionnaire de cellule et de cellule(s) voisine(s)\n",
    "        \"\"\"\n",
    "        cellule = start\n",
    "        chemin = [cellule]\n",
    "        \n",
    "        suivante = choice(self.get_reachable_cells(cellule))\n",
    "        precedente = cellule\n",
    "        cellule = suivante\n",
    "        suivante = (cellule[0] + cellule[0] - precedente[0], cellule[1] + cellule[1] - precedente[1])\n",
    "        \n",
    "        while cellule != stop:\n",
    "            \n",
    "            if cellule in chemin:\n",
    "                chemin.remove(precedente)\n",
    "            \n",
    "            else:\n",
    "                chemin += [cellule]\n",
    "            traj = -abs(suivante[0] - cellule[0]) + abs(suivante[1] - cellule[1])\n",
    "            \n",
    "            \n",
    "            if ((cellule[0]-traj * (cellule[1]-suivante[1]),cellule[1]-traj * (cellule[0] - suivante[0])) in self.get_reachable_cells(cellule) and precedente != (cellule[0] - traj * (cellule[1] - suivante[1]), cellule[1] - traj * (cellule[0]-suivante[0]))):\n",
    "                precedente = cellule\n",
    "                cellule = (cellule[0] - traj * (cellule[1] - suivante[1]), cellule[1]-traj * (cellule[0] - suivante[0]))\n",
    "            \n",
    "            elif (suivante in self.get_reachable_cells(cellule)):\n",
    "                precedente = cellule\n",
    "                cellule = suivante\n",
    "            \n",
    "            elif ((cellule[0] + traj * (cellule[1]-suivante[1]), cellule[1] + traj * (cellule[0] - suivante[0])) in self.get_reachable_cells(cellule) and precedente != (cellule[0] + traj * (cellule[1] - suivante[1]), cellule[1] + traj * (cellule[0] - suivante[0]))):\n",
    "                precedente = cellule\n",
    "                cellule = (cellule[0] + traj * (cellule[1]-suivante[1]), cellule[1] + traj * (cellule[0] - suivante[0]))\n",
    "            \n",
    "            else:\n",
    "                echange = precedente\n",
    "                precedente = cellule\n",
    "                cellule = echange\n",
    "            \n",
    "            suivante = (cellule[0] + cellule[0]-precedente[0], cellule[1] + cellule[1]-precedente[1])\n",
    "            \n",
    "            if suivante not in self.get_contiguous_cells(cellule):\n",
    "                traj = -abs(suivante[0] - cellule[0]) + abs(suivante[1] - cellule[1])\n",
    "                \n",
    "                if ((cellule[0] - traj * (cellule[1] - suivante[1]), cellule[1] - traj * (cellule[0]-suivante[0])) in self.get_reachable_cells(cellule)):\n",
    "                    suivante = (cellule[0] - traj * (cellule[1] - suivante[1]), cellule[1] - traj * (cellule[0] - suivante[0]))\n",
    "                \n",
    "                elif ((cellule[0] + traj * (cellule[1] - suivante[1]), cellule[1] + traj * (cellule[0] - suivante[0])) in self.get_reachable_cells(cellule)):\n",
    "                    suivante = (cellule[0] + traj * (cellule[1] - suivante[1]), cellule[1] + traj * (cellule[0] - suivante[0]))\n",
    "                \n",
    "                else:\n",
    "                    suivante = precedente\n",
    "        \n",
    "        chemin += [stop]\n",
    "        return chemin\n",
    "    \n",
    "    "
   ]
  },
  {
   "cell_type": "code",
   "execution_count": 254,
   "id": "6d45067f",
   "metadata": {},
   "outputs": [
    {
     "name": "stdout",
     "output_type": "stream",
     "text": [
      "**Informations sur le labyrinthe**\n",
      "- Dimensions de la grille : 4 x 4\n",
      "- Voisinages :\n",
      "{(0, 0): set(), (0, 1): set(), (0, 2): set(), (0, 3): set(), (1, 0): set(), (1, 1): set(), (1, 2): set(), (1, 3): set(), (2, 0): set(), (2, 1): set(), (2, 2): set(), (2, 3): set(), (3, 0): set(), (3, 1): set(), (3, 2): set(), (3, 3): set()}\n",
      "- Structure cohérente\n",
      "\n"
     ]
    }
   ],
   "source": [
    "laby = Maze(4, 4)\n",
    "print(laby.info())"
   ]
  },
  {
   "cell_type": "code",
   "execution_count": 255,
   "id": "d34e3285",
   "metadata": {},
   "outputs": [
    {
     "name": "stdout",
     "output_type": "stream",
     "text": [
      "┏━━━┳━━━┳━━━┳━━━┓\n",
      "┃   ┃   ┃   ┃   ┃\n",
      "┣━━━╋━━━╋━━━╋━━━┫\n",
      "┃   ┃   ┃   ┃   ┃\n",
      "┣━━━╋━━━╋━━━╋━━━┫\n",
      "┃   ┃   ┃   ┃   ┃\n",
      "┣━━━╋━━━╋━━━╋━━━┫\n",
      "┃   ┃   ┃   ┃   ┃\n",
      "┗━━━┻━━━┻━━━┻━━━┛\n",
      "\n"
     ]
    }
   ],
   "source": [
    "print(laby)"
   ]
  },
  {
   "cell_type": "code",
   "execution_count": 246,
   "id": "9d5c3307",
   "metadata": {},
   "outputs": [],
   "source": [
    "laby.neighbors = {\n",
    "    (0, 0): {(1, 0)},\n",
    "    (0, 1): {(0, 2), (1, 1)},\n",
    "    (0, 2): {(0, 1), (0, 3)},\n",
    "    (0, 3): {(0, 2), (1, 3)},\n",
    "    (1, 0): {(2, 0), (0, 0)},\n",
    "    (1, 1): {(0, 1), (1, 2)},\n",
    "    (1, 2): {(1, 1), (2, 2)},\n",
    "    (1, 3): {(2, 3), (0, 3)},\n",
    "    (2, 0): {(1, 0), (2, 1), (3, 0)},\n",
    "    (2, 1): {(2, 0), (2, 2)},\n",
    "    (2, 2): {(1, 2), (2, 1)},\n",
    "    (2, 3): {(3, 3), (1, 3)},\n",
    "    (3, 0): {(3, 1), (2, 0)},\n",
    "    (3, 1): {(3, 2), (3, 0)},\n",
    "    (3, 2): {(3, 1)},\n",
    "    (3, 3): {(2, 3)}\n",
    "}"
   ]
  },
  {
   "cell_type": "code",
   "execution_count": 247,
   "id": "5c3c40c6",
   "metadata": {},
   "outputs": [
    {
     "name": "stdout",
     "output_type": "stream",
     "text": [
      "┏━━━┳━━━┳━━━┳━━━┓\n",
      "┃   ┃           ┃\n",
      "┣   ╋   ╋━━━╋   ┫\n",
      "┃   ┃       ┃   ┃\n",
      "┣   ╋━━━╋   ╋   ┫\n",
      "┃           ┃   ┃\n",
      "┣   ╋━━━╋━━━╋   ┫\n",
      "┃           ┃   ┃\n",
      "┗━━━┻━━━┻━━━┻━━━┛\n",
      "\n"
     ]
    }
   ],
   "source": [
    "print(laby)"
   ]
  },
  {
   "cell_type": "code",
   "execution_count": 248,
   "id": "05c8b107",
   "metadata": {},
   "outputs": [
    {
     "name": "stdout",
     "output_type": "stream",
     "text": [
      "┏━━━┳━━━┳━━━┳━━━┓\n",
      "┃   ┃           ┃\n",
      "┣   ╋   ╋━━━╋   ┫\n",
      "┃   ┃       ┃   ┃\n",
      "┣   ╋━━━╋   ╋━━━┫\n",
      "┃           ┃   ┃\n",
      "┣   ╋━━━╋━━━╋   ┫\n",
      "┃           ┃   ┃\n",
      "┗━━━┻━━━┻━━━┻━━━┛\n",
      "\n"
     ]
    }
   ],
   "source": [
    "laby.neighbors[(1, 3)].remove((2, 3))\n",
    "laby.neighbors[(2, 3)].remove((1, 3))\n",
    "print(laby)"
   ]
  },
  {
   "cell_type": "code",
   "execution_count": 249,
   "id": "33e7152d",
   "metadata": {},
   "outputs": [
    {
     "name": "stdout",
     "output_type": "stream",
     "text": [
      "┏━━━┳━━━┳━━━┳━━━┓\n",
      "┃   ┃           ┃\n",
      "┣   ╋   ╋━━━╋   ┫\n",
      "┃   ┃       ┃   ┃\n",
      "┣   ╋━━━╋   ╋   ┫\n",
      "┃           ┃   ┃\n",
      "┣   ╋━━━╋━━━╋   ┫\n",
      "┃           ┃   ┃\n",
      "┗━━━┻━━━┻━━━┻━━━┛\n",
      "\n"
     ]
    }
   ],
   "source": [
    "laby.neighbors[(1, 3)].add((2, 3))\n",
    "laby.neighbors[(2, 3)].add((1, 3))\n",
    "print(laby)"
   ]
  },
  {
   "cell_type": "code",
   "execution_count": 250,
   "id": "0c162694",
   "metadata": {},
   "outputs": [
    {
     "name": "stdout",
     "output_type": "stream",
     "text": [
      "┏━━━┳━━━┳━━━┳━━━┓\n",
      "┃   ┃           ┃\n",
      "┣   ╋   ╋━━━╋   ┫\n",
      "┃   ┃       ┃   ┃\n",
      "┣   ╋━━━╋   ╋━━━┫\n",
      "┃           ┃   ┃\n",
      "┣   ╋━━━╋━━━╋   ┫\n",
      "┃           ┃   ┃\n",
      "┗━━━┻━━━┻━━━┻━━━┛\n",
      "\n",
      "**Informations sur le labyrinthe**\n",
      "- Dimensions de la grille : 4 x 4\n",
      "- Voisinages :\n",
      "{(0, 0): {(1, 0)}, (0, 1): {(1, 1), (0, 2)}, (0, 2): {(0, 1), (0, 3)}, (0, 3): {(0, 2), (1, 3)}, (1, 0): {(2, 0), (0, 0)}, (1, 1): {(0, 1), (1, 2)}, (1, 2): {(1, 1), (2, 2)}, (1, 3): {(0, 3)}, (2, 0): {(1, 0), (2, 1), (3, 0)}, (2, 1): {(2, 0), (2, 2)}, (2, 2): {(1, 2), (2, 1)}, (2, 3): {(3, 3), (1, 3)}, (3, 0): {(3, 1), (2, 0)}, (3, 1): {(3, 2), (3, 0)}, (3, 2): {(3, 1)}, (3, 3): {(2, 3)}}\n",
      "- Structure incohérente : (2, 3) X (1, 3)\n",
      "\n"
     ]
    }
   ],
   "source": [
    "laby.neighbors[(1, 3)].remove((2, 3))\n",
    "print(laby)\n",
    "print(laby.info())"
   ]
  },
  {
   "cell_type": "code",
   "execution_count": 251,
   "id": "641ad7a6",
   "metadata": {},
   "outputs": [],
   "source": [
    "laby.neighbors[(2, 3)].remove((1,3))"
   ]
  },
  {
   "cell_type": "code",
   "execution_count": 223,
   "id": "ff605a98",
   "metadata": {},
   "outputs": [
    {
     "name": "stdout",
     "output_type": "stream",
     "text": [
      "Il y a un mur entre (1, 3) et (2, 3) car (1, 3) n'est pas dans le voisinage de (2, 3) et (2, 3) n'est pas dans le voisinage de (1, 3)\n"
     ]
    }
   ],
   "source": [
    "c1 = (1, 3)\n",
    "c2 = (2, 3)\n",
    "if c1 in laby.neighbors[c2] and c2 in laby.neighbors[c1]:\n",
    "    print(f\"Il n'y a pas de mur entre {c1} et {c2} car elles sont mutuellement voisines\")\n",
    "elif c1 not in laby.neighbors[c2] and c2 not in laby.neighbors[c1]:\n",
    "    print(f\"Il y a un mur entre {c1} et {c2} car {c1} n'est pas dans le voisinage de {c2} et {c2} n'est pas dans le voisinage de {c1}\")\n",
    "else:\n",
    "    print(f\"Il y a une incohérence de réciprocité des voisinages de {c1} et {c2}\")"
   ]
  },
  {
   "cell_type": "code",
   "execution_count": 224,
   "id": "9f49d1dc",
   "metadata": {},
   "outputs": [
    {
     "name": "stdout",
     "output_type": "stream",
     "text": [
      "(1, 3) n'est pas accessible depuis (2, 3) et vice-versa\n"
     ]
    }
   ],
   "source": [
    "c1 = (1, 3)\n",
    "c2 = (2, 3)\n",
    "if c1 in laby.neighbors[c2] and c2 in laby.neighbors[c1]:\n",
    "    print(f\"{c1} est accessible depuis {c2} et vice-versa\")\n",
    "elif c1 not in laby.neighbors[c2] and c2 not in laby.neighbors[c1]:\n",
    "    print(f\"{c1} n'est pas accessible depuis {c2} et vice-versa\")\n",
    "else:\n",
    "    print(f\"Il y a une incohérence de réciprocité des voisinages de {c1} et {c2}\")"
   ]
  },
  {
   "cell_type": "code",
   "execution_count": 225,
   "id": "d31a14c9",
   "metadata": {},
   "outputs": [
    {
     "name": "stdout",
     "output_type": "stream",
     "text": [
      "Liste des cellules : \n",
      "[(0, 0), (0, 1), (0, 2), (0, 3), (1, 0), (1, 1), (1, 2), (1, 3), (2, 0), (2, 1), (2, 2), (2, 3), (3, 0), (3, 1), (3, 2), (3, 3)]\n"
     ]
    }
   ],
   "source": [
    "L = []\n",
    "for i in range(laby.height):\n",
    "    for j in range(laby.width):\n",
    "        L.append((i,j))\n",
    "print(f\"Liste des cellules : \\n{L}\")"
   ]
  },
  {
   "cell_type": "code",
   "execution_count": 226,
   "id": "948d018c",
   "metadata": {},
   "outputs": [
    {
     "name": "stdout",
     "output_type": "stream",
     "text": [
      "┏━━━┳━━━┳━━━┳━━━┓\n",
      "┃               ┃\n",
      "┣   ╋   ╋   ╋   ┫\n",
      "┃               ┃\n",
      "┣   ╋   ╋   ╋   ┫\n",
      "┃               ┃\n",
      "┣   ╋   ╋   ╋   ┫\n",
      "┃               ┃\n",
      "┗━━━┻━━━┻━━━┻━━━┛\n",
      "\n"
     ]
    }
   ],
   "source": [
    "laby = Maze(4, 4, empty = True)\n",
    "print(laby)"
   ]
  },
  {
   "cell_type": "code",
   "execution_count": 227,
   "id": "1ebcc972",
   "metadata": {},
   "outputs": [
    {
     "name": "stdout",
     "output_type": "stream",
     "text": [
      "┏━━━┳━━━┳━━━┳━━━┓\n",
      "┃   ┃   ┃   ┃   ┃\n",
      "┣━━━╋━━━╋━━━╋━━━┫\n",
      "┃   ┃   ┃   ┃   ┃\n",
      "┣━━━╋━━━╋━━━╋━━━┫\n",
      "┃   ┃   ┃   ┃   ┃\n",
      "┣━━━╋━━━╋━━━╋━━━┫\n",
      "┃   ┃   ┃   ┃   ┃\n",
      "┗━━━┻━━━┻━━━┻━━━┛\n",
      "\n"
     ]
    }
   ],
   "source": [
    "laby = Maze(4, 4, empty = False)\n",
    "print(laby)"
   ]
  },
  {
   "cell_type": "markdown",
   "id": "096db948",
   "metadata": {},
   "source": [
    "## 4 Manipulation de labyrinthes"
   ]
  },
  {
   "cell_type": "code",
   "execution_count": 228,
   "id": "105858a0",
   "metadata": {},
   "outputs": [
    {
     "name": "stdout",
     "output_type": "stream",
     "text": [
      "┏━━━┳━━━┳━━━┳━━━┳━━━┓\n",
      "┃                   ┃\n",
      "┣   ╋   ╋   ╋   ╋   ┫\n",
      "┃                   ┃\n",
      "┣   ╋   ╋   ╋   ╋   ┫\n",
      "┃                   ┃\n",
      "┣   ╋   ╋   ╋   ╋   ┫\n",
      "┃                   ┃\n",
      "┣   ╋   ╋   ╋   ╋   ┫\n",
      "┃                   ┃\n",
      "┗━━━┻━━━┻━━━┻━━━┻━━━┛\n",
      "\n"
     ]
    }
   ],
   "source": [
    "laby = Maze(5, 5, empty = True)\n",
    "print(laby)"
   ]
  },
  {
   "cell_type": "code",
   "execution_count": 229,
   "id": "5e8f07bd",
   "metadata": {},
   "outputs": [
    {
     "name": "stdout",
     "output_type": "stream",
     "text": [
      "┏━━━┳━━━┳━━━┳━━━┳━━━┓\n",
      "┃   ┃               ┃\n",
      "┣   ╋   ╋   ╋   ╋   ┫\n",
      "┃                   ┃\n",
      "┣   ╋   ╋   ╋   ╋   ┫\n",
      "┃                   ┃\n",
      "┣   ╋   ╋   ╋   ╋   ┫\n",
      "┃                   ┃\n",
      "┣   ╋   ╋   ╋   ╋   ┫\n",
      "┃                   ┃\n",
      "┗━━━┻━━━┻━━━┻━━━┻━━━┛\n",
      "\n"
     ]
    }
   ],
   "source": [
    "laby.add_wall((0,0), (0,1))\n",
    "print(laby)"
   ]
  },
  {
   "cell_type": "code",
   "execution_count": 230,
   "id": "1ed51954",
   "metadata": {},
   "outputs": [
    {
     "name": "stdout",
     "output_type": "stream",
     "text": [
      "┏━━━┳━━━┳━━━┳━━━┳━━━┓\n",
      "┃   ┃   ┃   ┃   ┃   ┃\n",
      "┣━━━╋━━━╋━━━╋━━━╋━━━┫\n",
      "┃   ┃   ┃   ┃   ┃   ┃\n",
      "┣━━━╋━━━╋━━━╋━━━╋━━━┫\n",
      "┃   ┃   ┃   ┃   ┃   ┃\n",
      "┣━━━╋━━━╋━━━╋━━━╋━━━┫\n",
      "┃   ┃   ┃   ┃   ┃   ┃\n",
      "┣━━━╋━━━╋━━━╋━━━╋━━━┫\n",
      "┃   ┃   ┃   ┃   ┃   ┃\n",
      "┗━━━┻━━━┻━━━┻━━━┻━━━┛\n",
      "\n"
     ]
    }
   ],
   "source": [
    "laby = Maze(5, 5, empty = True)\n",
    "laby.fill()\n",
    "print(laby)"
   ]
  },
  {
   "cell_type": "code",
   "execution_count": 231,
   "id": "8a2303eb",
   "metadata": {},
   "outputs": [
    {
     "name": "stdout",
     "output_type": "stream",
     "text": [
      "┏━━━┳━━━┳━━━┳━━━┳━━━┓\n",
      "┃       ┃   ┃   ┃   ┃\n",
      "┣━━━╋━━━╋━━━╋━━━╋━━━┫\n",
      "┃   ┃   ┃   ┃   ┃   ┃\n",
      "┣━━━╋━━━╋━━━╋━━━╋━━━┫\n",
      "┃   ┃   ┃   ┃   ┃   ┃\n",
      "┣━━━╋━━━╋━━━╋━━━╋━━━┫\n",
      "┃   ┃   ┃   ┃   ┃   ┃\n",
      "┣━━━╋━━━╋━━━╋━━━╋━━━┫\n",
      "┃   ┃   ┃   ┃   ┃   ┃\n",
      "┗━━━┻━━━┻━━━┻━━━┻━━━┛\n",
      "\n"
     ]
    }
   ],
   "source": [
    "laby.remove_wall((0, 0), (0, 1))\n",
    "print(laby)"
   ]
  },
  {
   "cell_type": "code",
   "execution_count": 232,
   "id": "1b4214c4",
   "metadata": {},
   "outputs": [
    {
     "name": "stdout",
     "output_type": "stream",
     "text": [
      "┏━━━┳━━━┳━━━┳━━━┳━━━┓\n",
      "┃   ┃               ┃\n",
      "┣   ╋━━━╋   ╋   ╋   ┫\n",
      "┃                   ┃\n",
      "┣   ╋   ╋   ╋   ╋   ┫\n",
      "┃                   ┃\n",
      "┣   ╋   ╋   ╋   ╋   ┫\n",
      "┃                   ┃\n",
      "┣   ╋   ╋   ╋   ╋   ┫\n",
      "┃                   ┃\n",
      "┗━━━┻━━━┻━━━┻━━━┻━━━┛\n",
      "\n"
     ]
    }
   ],
   "source": [
    "laby.empty()\n",
    "laby.add_wall((0, 0), (0, 1))\n",
    "laby.add_wall((0, 1), (1, 1))\n",
    "print(laby)"
   ]
  },
  {
   "cell_type": "code",
   "execution_count": 233,
   "id": "f1575b6f",
   "metadata": {},
   "outputs": [
    {
     "name": "stdout",
     "output_type": "stream",
     "text": [
      "[((0, 0), (0, 1)), ((0, 1), (1, 1))]\n"
     ]
    }
   ],
   "source": [
    "print(laby.get_walls())"
   ]
  },
  {
   "cell_type": "code",
   "execution_count": 234,
   "id": "5f06249e",
   "metadata": {},
   "outputs": [
    {
     "name": "stdout",
     "output_type": "stream",
     "text": [
      "[(1, 1), (0, 0), (0, 2)]\n"
     ]
    }
   ],
   "source": [
    "print(laby.get_contiguous_cells((0,1)))"
   ]
  },
  {
   "cell_type": "code",
   "execution_count": 235,
   "id": "5392a514",
   "metadata": {},
   "outputs": [
    {
     "name": "stdout",
     "output_type": "stream",
     "text": [
      "[(0, 2)]\n"
     ]
    }
   ],
   "source": [
    "print(laby.get_reachable_cells((0,1)))"
   ]
  },
  {
   "cell_type": "markdown",
   "id": "f25093ee",
   "metadata": {},
   "source": [
    "## 5 Génération"
   ]
  },
  {
   "cell_type": "markdown",
   "id": "36a43330",
   "metadata": {},
   "source": [
    "### 5.1 Arbre binaire"
   ]
  },
  {
   "cell_type": "code",
   "execution_count": 236,
   "id": "71fef74b",
   "metadata": {},
   "outputs": [
    {
     "name": "stdout",
     "output_type": "stream",
     "text": [
      "┏━━━┳━━━┳━━━┳━━━┓\n",
      "┃   ┃   ┃       ┃\n",
      "┣   ╋   ╋━━━╋   ┫\n",
      "┃               ┃\n",
      "┣━━━╋━━━╋━━━╋   ┫\n",
      "┃           ┃   ┃\n",
      "┣━━━╋━━━╋   ╋   ┫\n",
      "┃               ┃\n",
      "┗━━━┻━━━┻━━━┻━━━┛\n",
      "\n"
     ]
    }
   ],
   "source": [
    "laby = Maze.gen_btree(4, 4)\n",
    "print(laby)"
   ]
  },
  {
   "cell_type": "markdown",
   "id": "a63d3c25",
   "metadata": {},
   "source": [
    "### 5.2 Sidewinder"
   ]
  },
  {
   "cell_type": "code",
   "execution_count": 237,
   "id": "89317057",
   "metadata": {},
   "outputs": [
    {
     "name": "stdout",
     "output_type": "stream",
     "text": [
      "┏━━━┳━━━┳━━━┳━━━┓\n",
      "┃   ┃           ┃\n",
      "┣   ╋━━━╋━━━╋   ┫\n",
      "┃   ┃           ┃\n",
      "┣   ╋━━━╋━━━╋   ┫\n",
      "┃       ┃   ┃   ┃\n",
      "┣━━━╋   ╋   ╋   ┫\n",
      "┃               ┃\n",
      "┗━━━┻━━━┻━━━┻━━━┛\n",
      "\n"
     ]
    }
   ],
   "source": [
    "laby = Maze.gen_sidewinder(4, 4)\n",
    "print(laby)"
   ]
  },
  {
   "cell_type": "markdown",
   "id": "72f5f561",
   "metadata": {},
   "source": [
    "### 5.3 Fusion de chemins"
   ]
  },
  {
   "cell_type": "code",
   "execution_count": 238,
   "id": "17de1c84",
   "metadata": {},
   "outputs": [
    {
     "name": "stdout",
     "output_type": "stream",
     "text": [
      "┏━━━┳━━━┳━━━┳━━━┳━━━┳━━━┳━━━┳━━━┳━━━┳━━━┳━━━┳━━━┳━━━┳━━━┳━━━┓\n",
      "┃   ┃   ┃               ┃           ┃       ┃   ┃       ┃   ┃\n",
      "┣   ╋   ╋   ╋━━━╋   ╋━━━╋   ╋━━━╋━━━╋━━━╋   ╋   ╋   ╋━━━╋   ┫\n",
      "┃   ┃           ┃                   ┃       ┃           ┃   ┃\n",
      "┣   ╋━━━╋   ╋━━━╋━━━╋   ╋━━━╋   ╋━━━╋   ╋━━━╋━━━╋   ╋━━━╋   ┫\n",
      "┃           ┃           ┃       ┃   ┃       ┃   ┃           ┃\n",
      "┣━━━╋   ╋   ╋━━━╋━━━╋━━━╋━━━╋   ╋   ╋━━━╋   ╋   ╋   ╋━━━╋   ┫\n",
      "┃   ┃   ┃   ┃   ┃           ┃   ┃                       ┃   ┃\n",
      "┣   ╋━━━╋   ╋   ╋━━━╋   ╋━━━╋   ╋   ╋   ╋━━━╋   ╋━━━╋━━━╋━━━┫\n",
      "┃               ┃   ┃   ┃           ┃       ┃               ┃\n",
      "┣   ╋━━━╋━━━╋   ╋   ╋   ╋━━━╋━━━╋━━━╋   ╋━━━╋   ╋   ╋━━━╋━━━┫\n",
      "┃       ┃       ┃           ┃       ┃   ┃       ┃   ┃       ┃\n",
      "┣   ╋   ╋   ╋   ╋━━━╋   ╋   ╋   ╋   ╋━━━╋━━━╋   ╋━━━╋━━━╋   ┫\n",
      "┃   ┃   ┃   ┃       ┃   ┃       ┃               ┃           ┃\n",
      "┣━━━╋━━━╋   ╋   ╋━━━╋━━━╋━━━╋━━━╋   ╋━━━╋━━━╋   ╋━━━╋   ╋━━━┫\n",
      "┃           ┃       ┃       ┃           ┃   ┃   ┃           ┃\n",
      "┣━━━╋━━━╋   ╋━━━╋   ╋   ╋━━━╋━━━╋━━━╋━━━╋   ╋   ╋   ╋   ╋━━━┫\n",
      "┃   ┃       ┃       ┃       ┃                   ┃   ┃       ┃\n",
      "┣   ╋   ╋━━━╋━━━╋━━━╋━━━╋   ╋   ╋━━━╋   ╋━━━╋   ╋   ╋━━━╋   ┫\n",
      "┃   ┃               ┃   ┃   ┃       ┃   ┃               ┃   ┃\n",
      "┣   ╋━━━╋   ╋━━━╋━━━╋   ╋   ╋━━━╋━━━╋   ╋━━━╋   ╋━━━╋━━━╋━━━┫\n",
      "┃                                   ┃   ┃           ┃       ┃\n",
      "┣   ╋━━━╋   ╋━━━╋━━━╋   ╋━━━╋━━━╋   ╋   ╋━━━╋   ╋━━━╋   ╋━━━┫\n",
      "┃   ┃           ┃       ┃   ┃       ┃   ┃           ┃   ┃   ┃\n",
      "┣   ╋━━━╋   ╋━━━╋━━━╋   ╋   ╋   ╋━━━╋   ╋   ╋━━━╋   ╋   ╋   ┫\n",
      "┃       ┃   ┃   ┃       ┃   ┃       ┃   ┃   ┃   ┃           ┃\n",
      "┣   ╋━━━╋   ╋   ╋━━━╋   ╋   ╋━━━╋━━━╋━━━╋━━━╋   ╋   ╋━━━╋   ┫\n",
      "┃       ┃   ┃       ┃       ┃               ┃       ┃       ┃\n",
      "┣━━━╋   ╋━━━╋   ╋━━━╋━━━╋   ╋━━━╋   ╋   ╋   ╋━━━╋━━━╋━━━╋   ┫\n",
      "┃           ┃                       ┃   ┃           ┃       ┃\n",
      "┗━━━┻━━━┻━━━┻━━━┻━━━┻━━━┻━━━┻━━━┻━━━┻━━━┻━━━┻━━━┻━━━┻━━━┻━━━┛\n",
      "\n"
     ]
    }
   ],
   "source": [
    "laby = Maze.gen_fusion(15,15)\n",
    "print(laby)"
   ]
  },
  {
   "cell_type": "markdown",
   "id": "2b529866",
   "metadata": {},
   "source": [
    "### 5.4 Exploration exhaustive"
   ]
  },
  {
   "cell_type": "code",
   "execution_count": 239,
   "id": "0f4deceb",
   "metadata": {},
   "outputs": [
    {
     "name": "stdout",
     "output_type": "stream",
     "text": [
      "┏━━━┳━━━┳━━━┳━━━┳━━━┳━━━┳━━━┳━━━┳━━━┳━━━┳━━━┳━━━┳━━━┳━━━┳━━━┓\n",
      "┃           ┃       ┃               ┃                       ┃\n",
      "┣   ╋━━━╋━━━╋   ╋   ╋   ╋━━━╋━━━╋   ╋   ╋   ╋━━━╋━━━╋━━━╋   ┫\n",
      "┃               ┃   ┃       ┃       ┃   ┃           ┃   ┃   ┃\n",
      "┣   ╋━━━╋━━━╋━━━╋   ╋━━━╋   ╋   ╋━━━╋━━━╋━━━╋   ╋   ╋   ╋   ┫\n",
      "┃   ┃           ┃       ┃   ┃               ┃   ┃   ┃       ┃\n",
      "┣   ╋━━━╋━━━╋   ╋   ╋━━━╋   ╋━━━╋━━━╋━━━╋   ╋   ╋   ╋━━━╋━━━┫\n",
      "┃       ┃       ┃       ┃   ┃           ┃   ┃   ┃   ┃       ┃\n",
      "┣━━━╋   ╋   ╋   ╋━━━╋   ╋━━━╋   ╋   ╋━━━╋   ╋   ╋   ╋   ╋   ┫\n",
      "┃   ┃       ┃       ┃           ┃   ┃       ┃   ┃       ┃   ┃\n",
      "┣   ╋━━━╋━━━╋━━━╋   ╋━━━╋━━━╋   ╋━━━╋   ╋━━━╋   ╋━━━╋━━━╋   ┫\n",
      "┃               ┃           ┃   ┃       ┃       ┃           ┃\n",
      "┣   ╋━━━╋━━━╋━━━╋━━━╋   ╋━━━╋   ╋   ╋━━━╋   ╋━━━╋   ╋━━━╋   ┫\n",
      "┃   ┃       ┃       ┃   ┃       ┃       ┃   ┃       ┃       ┃\n",
      "┣   ╋   ╋   ╋   ╋   ╋   ╋   ╋━━━╋━━━╋   ╋━━━╋   ╋━━━╋   ╋━━━┫\n",
      "┃   ┃   ┃       ┃       ┃           ┃   ┃       ┃   ┃   ┃   ┃\n",
      "┣   ╋   ╋━━━╋━━━╋━━━╋━━━╋━━━╋━━━╋   ╋   ╋   ╋━━━╋   ╋   ╋   ┫\n",
      "┃       ┃                   ┃       ┃   ┃       ┃       ┃   ┃\n",
      "┣   ╋━━━╋━━━╋   ╋━━━╋━━━╋   ╋   ╋   ╋   ╋━━━╋   ╋━━━╋   ╋   ┫\n",
      "┃               ┃   ┃       ┃   ┃   ┃       ┃       ┃   ┃   ┃\n",
      "┣━━━╋━━━╋━━━╋━━━╋   ╋   ╋━━━╋   ╋━━━╋━━━╋   ╋━━━╋   ╋   ╋   ┫\n",
      "┃           ┃               ┃           ┃       ┃   ┃       ┃\n",
      "┣   ╋━━━╋   ╋━━━╋   ╋━━━╋━━━╋━━━╋   ╋   ╋━━━╋   ╋   ╋━━━╋   ┫\n",
      "┃       ┃       ┃   ┃               ┃   ┃       ┃   ┃       ┃\n",
      "┣━━━╋   ╋━━━╋   ╋━━━╋   ╋   ╋━━━╋━━━╋━━━╋   ╋━━━╋   ╋   ╋━━━┫\n",
      "┃       ┃               ┃   ┃           ┃   ┃       ┃   ┃   ┃\n",
      "┣   ╋━━━╋━━━╋━━━╋━━━╋━━━╋━━━╋   ╋━━━╋   ╋   ╋   ╋━━━╋   ╋   ┫\n",
      "┃   ┃       ┃               ┃   ┃       ┃   ┃   ┃   ┃       ┃\n",
      "┣   ╋   ╋   ╋   ╋━━━╋━━━╋   ╋   ╋   ╋━━━╋   ╋   ╋   ╋━━━╋   ┫\n",
      "┃       ┃               ┃       ┃               ┃           ┃\n",
      "┗━━━┻━━━┻━━━┻━━━┻━━━┻━━━┻━━━┻━━━┻━━━┻━━━┻━━━┻━━━┻━━━┻━━━┻━━━┛\n",
      "\n"
     ]
    }
   ],
   "source": [
    "laby = Maze.gen_exploration(15,15)\n",
    "print(laby)"
   ]
  },
  {
   "cell_type": "markdown",
   "id": "f814d406",
   "metadata": {},
   "source": [
    "### 5.5 L’algorithme de Wilson"
   ]
  },
  {
   "cell_type": "code",
   "execution_count": 278,
   "id": "e9c44a42",
   "metadata": {},
   "outputs": [
    {
     "name": "stdout",
     "output_type": "stream",
     "text": [
      "┏━━━┳━━━┳━━━┳━━━┳━━━┳━━━┳━━━┳━━━┳━━━┳━━━┳━━━┳━━━┓\n",
      "┃           ┃           ┃   ┃   ┃               ┃\n",
      "┣   ╋━━━╋   ╋   ╋━━━╋   ╋   ╋   ╋━━━╋   ╋━━━╋   ┫\n",
      "┃       ┃           ┃                   ┃       ┃\n",
      "┣   ╋━━━╋━━━╋━━━╋━━━╋   ╋━━━╋━━━╋   ╋━━━╋━━━╋   ┫\n",
      "┃   ┃       ┃       ┃       ┃               ┃   ┃\n",
      "┣   ╋   ╋   ╋   ╋━━━╋━━━╋   ╋   ╋━━━╋   ╋━━━╋━━━┫\n",
      "┃   ┃   ┃       ┃           ┃   ┃   ┃   ┃       ┃\n",
      "┣   ╋   ╋━━━╋━━━╋   ╋━━━╋━━━╋   ╋   ╋━━━╋━━━╋   ┫\n",
      "┃   ┃   ┃   ┃       ┃                       ┃   ┃\n",
      "┣━━━╋   ╋   ╋   ╋━━━╋━━━╋━━━╋   ╋   ╋━━━╋   ╋   ┫\n",
      "┃   ┃           ┃       ┃   ┃   ┃   ┃   ┃       ┃\n",
      "┣   ╋   ╋   ╋━━━╋   ╋━━━╋   ╋━━━╋━━━╋   ╋   ╋━━━┫\n",
      "┃   ┃   ┃   ┃   ┃   ┃                           ┃\n",
      "┣   ╋   ╋━━━╋   ╋   ╋   ╋━━━╋━━━╋━━━╋━━━╋   ╋   ┫\n",
      "┃   ┃   ┃   ┃               ┃       ┃       ┃   ┃\n",
      "┣   ╋   ╋   ╋━━━╋━━━╋━━━╋   ╋   ╋   ╋━━━╋━━━╋━━━┫\n",
      "┃   ┃           ┃       ┃       ┃       ┃   ┃   ┃\n",
      "┣   ╋   ╋━━━╋━━━╋━━━╋   ╋━━━╋━━━╋━━━╋   ╋   ╋   ┫\n",
      "┃               ┃           ┃           ┃       ┃\n",
      "┣━━━╋━━━╋   ╋   ╋   ╋   ╋━━━╋━━━╋   ╋   ╋   ╋━━━┫\n",
      "┃       ┃   ┃   ┃   ┃   ┃           ┃       ┃   ┃\n",
      "┣   ╋━━━╋━━━╋   ╋   ╋   ╋   ╋   ╋   ╋━━━╋   ╋   ┫\n",
      "┃                   ┃   ┃   ┃   ┃   ┃           ┃\n",
      "┗━━━┻━━━┻━━━┻━━━┻━━━┻━━━┻━━━┻━━━┻━━━┻━━━┻━━━┻━━━┛\n",
      "\n"
     ]
    }
   ],
   "source": [
    "laby = Maze.gen_wilson(12, 12)\n",
    "print(laby)"
   ]
  },
  {
   "cell_type": "markdown",
   "id": "a054b4ee",
   "metadata": {},
   "source": [
    "## 6 Résolution"
   ]
  },
  {
   "cell_type": "code",
   "execution_count": 241,
   "id": "fc7e6533",
   "metadata": {},
   "outputs": [
    {
     "name": "stdout",
     "output_type": "stream",
     "text": [
      "┏━━━┳━━━┳━━━┳━━━┓\n",
      "┃ c   o         ┃\n",
      "┣   ╋   ╋   ╋   ┫\n",
      "┃     u         ┃\n",
      "┣   ╋   ╋   ╋   ┫\n",
      "┃     c   o     ┃\n",
      "┣   ╋   ╋   ╋   ┫\n",
      "┃         u   ! ┃\n",
      "┗━━━┻━━━┻━━━┻━━━┛\n",
      "\n"
     ]
    }
   ],
   "source": [
    "laby = Maze(4,4, empty = True)\n",
    "print(laby.overlay({\n",
    "    (0, 0):'c',\n",
    "    (0, 1):'o',\n",
    "    (1, 1):'u',\n",
    "    (2, 1):'c',\n",
    "    (2, 2):'o',\n",
    "    (3, 2):'u',\n",
    "    (3, 3):'!'}))"
   ]
  },
  {
   "cell_type": "code",
   "execution_count": 318,
   "id": "fc19f55c",
   "metadata": {},
   "outputs": [
    {
     "name": "stdout",
     "output_type": "stream",
     "text": [
      "┏━━━┳━━━┳━━━┳━━━┓\n",
      "┃ @             ┃\n",
      "┣   ╋   ╋   ╋   ┫\n",
      "┃ *   *         ┃\n",
      "┣   ╋   ╋   ╋   ┫\n",
      "┃     *   *     ┃\n",
      "┣   ╋   ╋   ╋   ┫\n",
      "┃         *   § ┃\n",
      "┗━━━┻━━━┻━━━┻━━━┛\n",
      "\n"
     ]
    }
   ],
   "source": [
    "laby = Maze(4,4, empty = True)\n",
    "path = {(0, 0): '@',\n",
    "        (1, 0): '*',\n",
    "        (1, 1): '*',\n",
    "        (2, 1): '*',\n",
    "        (2, 2): '*',\n",
    "        (3, 2): '*',\n",
    "        (3, 3): '§'}\n",
    "print(laby.overlay(path))"
   ]
  },
  {
   "cell_type": "markdown",
   "id": "ff8d20f1",
   "metadata": {},
   "source": [
    "### 6.1 Résolution par parcours"
   ]
  },
  {
   "cell_type": "code",
   "execution_count": 415,
   "id": "6e8ab016",
   "metadata": {},
   "outputs": [
    {
     "name": "stdout",
     "output_type": "stream",
     "text": [
      "┏━━━┳━━━┳━━━┳━━━┳━━━┳━━━┳━━━┳━━━┳━━━┳━━━┳━━━┳━━━┳━━━┳━━━┳━━━┓\n",
      "┃ D                 ┃       ┃           ┃       ┃           ┃\n",
      "┣   ╋━━━╋━━━╋━━━╋━━━╋   ╋━━━╋━━━╋   ╋━━━╋   ╋━━━╋━━━╋   ╋━━━┫\n",
      "┃ *   *   * ┃   ┃   ┃       ┃   ┃                   ┃       ┃\n",
      "┣━━━╋━━━╋   ╋   ╋   ╋━━━╋   ╋   ╋━━━╋━━━╋━━━╋   ╋━━━╋━━━╋   ┫\n",
      "┃         *   *   * ┃               ┃   ┃                   ┃\n",
      "┣━━━╋━━━╋   ╋━━━╋   ╋   ╋━━━╋━━━╋━━━╋   ╋━━━╋━━━╋   ╋━━━╋   ┫\n",
      "┃           ┃     *   *   *   *   *   *   * ┃   ┃   ┃       ┃\n",
      "┣   ╋━━━╋━━━╋   ╋   ╋━━━╋   ╋━━━╋   ╋━━━╋   ╋   ╋━━━╋━━━╋   ┫\n",
      "┃       ┃   ┃   ┃       ┃       ┃   ┃     *   *   *   * ┃   ┃\n",
      "┣━━━╋━━━╋   ╋━━━╋━━━╋━━━╋━━━╋   ╋━━━╋━━━╋━━━╋   ╋━━━╋   ╋   ┫\n",
      "┃       ┃           ┃   ┃       ┃   ┃           ┃     *     ┃\n",
      "┣   ╋   ╋   ╋━━━╋   ╋   ╋   ╋   ╋   ╋━━━╋   ╋━━━╋━━━╋   ╋━━━┫\n",
      "┃   ┃   ┃   ┃           ┃   ┃   ┃   ┃           ┃   ┃ *     ┃\n",
      "┣   ╋━━━╋━━━╋━━━╋━━━╋   ╋   ╋   ╋   ╋━━━╋━━━╋━━━╋   ╋   ╋━━━┫\n",
      "┃       ┃   ┃               ┃           ┃           ┃ * ┃   ┃\n",
      "┣━━━╋   ╋   ╋━━━╋   ╋━━━╋━━━╋   ╋   ╋   ╋━━━╋   ╋   ╋   ╋   ┫\n",
      "┃       ┃           ┃       ┃   ┃   ┃       ┃   ┃     * ┃   ┃\n",
      "┣   ╋   ╋   ╋   ╋━━━╋━━━╋   ╋   ╋━━━╋   ╋━━━╋   ╋   ╋   ╋   ┫\n",
      "┃   ┃       ┃               ┃   ┃           ┃   ┃   ┃ *     ┃\n",
      "┣   ╋━━━╋   ╋━━━╋━━━╋━━━╋   ╋━━━╋━━━╋━━━╋   ╋   ╋━━━╋   ╋━━━┫\n",
      "┃   ┃               ┃   ┃   ┃       ┃       ┃   ┃ *   *     ┃\n",
      "┣━━━╋━━━╋   ╋━━━╋━━━╋   ╋   ╋━━━╋   ╋   ╋━━━╋   ╋   ╋━━━╋━━━┫\n",
      "┃               ┃       ┃   ┃       ┃   ┃       ┃ *     ┃   ┃\n",
      "┣━━━╋   ╋━━━╋   ╋   ╋━━━╋━━━╋   ╋━━━╋━━━╋   ╋━━━╋   ╋━━━╋   ┫\n",
      "┃   ┃       ┃                           ┃       ┃ *   *     ┃\n",
      "┣   ╋   ╋━━━╋━━━╋   ╋   ╋━━━╋━━━╋━━━╋   ╋━━━╋━━━╋━━━╋   ╋━━━┫\n",
      "┃           ┃       ┃   ┃       ┃           ┃     *   *     ┃\n",
      "┣   ╋   ╋━━━╋   ╋━━━╋━━━╋━━━╋   ╋━━━╋━━━╋   ╋━━━╋   ╋━━━╋━━━┫\n",
      "┃   ┃   ┃               ┃                   ┃     *   *   A ┃\n",
      "┗━━━┻━━━┻━━━┻━━━┻━━━┻━━━┻━━━┻━━━┻━━━┻━━━┻━━━┻━━━┻━━━┻━━━┻━━━┛\n",
      "\n"
     ]
    }
   ],
   "source": [
    "laby = Maze.gen_fusion(15, 15)\n",
    "solution = laby.solve_dfs((0, 0), (14, 14))\n",
    "str_solution = {c:'*' for c in solution}\n",
    "str_solution[( 0,  0)] = 'D'\n",
    "str_solution[(14, 14)] = 'A'\n",
    "print(laby.overlay(str_solution))"
   ]
  },
  {
   "cell_type": "code",
   "execution_count": 426,
   "id": "5495c5b6",
   "metadata": {},
   "outputs": [
    {
     "name": "stdout",
     "output_type": "stream",
     "text": [
      "┏━━━┳━━━┳━━━┳━━━┳━━━┳━━━┳━━━┳━━━┳━━━┳━━━┳━━━┳━━━┳━━━┳━━━┳━━━┓\n",
      "┃ D   *   *             ┃       ┃                       ┃   ┃\n",
      "┣   ╋━━━╋   ╋━━━╋━━━╋   ╋   ╋   ╋   ╋━━━╋━━━╋━━━╋━━━╋   ╋   ┫\n",
      "┃   ┃ *   * ┃           ┃   ┃   ┃       ┃       ┃           ┃\n",
      "┣━━━╋   ╋━━━╋━━━╋━━━╋   ╋   ╋   ╋━━━╋   ╋   ╋   ╋━━━╋━━━╋   ┫\n",
      "┃ *   * ┃ *   *   * ┃       ┃   ┃       ┃   ┃           ┃   ┃\n",
      "┣   ╋   ╋   ╋━━━╋   ╋━━━╋━━━╋   ╋   ╋   ╋   ╋━━━╋━━━╋   ╋   ┫\n",
      "┃ * ┃   ┃ * ┃   ┃ *   * ┃       ┃   ┃   ┃   ┃           ┃   ┃\n",
      "┣   ╋━━━╋   ╋   ╋━━━╋   ╋   ╋━━━╋   ╋━━━╋   ╋   ╋━━━╋━━━╋━━━┫\n",
      "┃ *   * ┃ *   *     ┃ * ┃       ┃           ┃               ┃\n",
      "┣   ╋   ╋━━━╋   ╋━━━╋   ╋━━━╋   ╋━━━╋━━━╋━━━╋━━━╋━━━╋━━━╋   ┫\n",
      "┃   ┃ *   *   * ┃ *   * ┃               ┃               ┃   ┃\n",
      "┣   ╋━━━╋━━━╋━━━╋   ╋━━━╋━━━╋━━━╋━━━╋   ╋   ╋━━━╋━━━╋   ╋   ┫\n",
      "┃   ┃           ┃ *   *   * ┃ *   * ┃       ┃           ┃   ┃\n",
      "┣   ╋   ╋━━━╋   ╋━━━╋━━━╋   ╋   ╋   ╋━━━╋━━━╋━━━╋   ╋━━━╋   ┫\n",
      "┃       ┃           ┃ *   * ┃ * ┃ *   *   *   * ┃   ┃       ┃\n",
      "┣━━━╋   ╋━━━╋━━━╋━━━╋   ╋━━━╋   ╋━━━╋━━━╋━━━╋   ╋   ╋   ╋   ┫\n",
      "┃   ┃   ┃ *   *   *   * ┃ *   * ┃       ┃ *   * ┃       ┃   ┃\n",
      "┣   ╋   ╋   ╋   ╋━━━╋━━━╋   ╋━━━╋━━━╋   ╋   ╋━━━╋━━━╋━━━╋   ┫\n",
      "┃   ┃   ┃ * ┃   ┃ *   *   * ┃           ┃ *   * ┃           ┃\n",
      "┣   ╋   ╋   ╋━━━╋   ╋━━━╋━━━╋   ╋━━━╋   ╋━━━╋   ╋   ╋━━━╋━━━┫\n",
      "┃   ┃   ┃ *   *   * ┃   ┃       ┃       ┃ *   * ┃   ┃       ┃\n",
      "┣   ╋   ╋━━━╋━━━╋━━━╋   ╋   ╋   ╋   ╋━━━╋   ╋━━━╋   ╋   ╋   ┫\n",
      "┃   ┃       ┃               ┃   ┃   ┃   ┃ *   * ┃       ┃   ┃\n",
      "┣   ╋━━━╋   ╋━━━╋━━━╋━━━╋━━━╋   ╋   ╋   ╋━━━╋   ╋━━━╋━━━╋━━━┫\n",
      "┃   ┃       ┃       ┃           ┃           ┃ *   *   *   * ┃\n",
      "┣   ╋   ╋━━━╋   ╋   ╋   ╋━━━╋━━━╋━━━╋━━━╋━━━╋━━━╋   ╋━━━╋   ┫\n",
      "┃   ┃           ┃   ┃       ┃   ┃       ┃       ┃   ┃     * ┃\n",
      "┣   ╋━━━╋━━━╋━━━╋   ╋━━━╋   ╋   ╋   ╋   ╋   ╋   ╋━━━╋   ╋   ┫\n",
      "┃                           ┃       ┃       ┃           ┃ A ┃\n",
      "┗━━━┻━━━┻━━━┻━━━┻━━━┻━━━┻━━━┻━━━┻━━━┻━━━┻━━━┻━━━┻━━━┻━━━┻━━━┛\n",
      "\n"
     ]
    }
   ],
   "source": [
    "laby = Maze.gen_exploration(15, 15)\n",
    "solution = laby.solve_bfs((0, 0), (14, 14))\n",
    "str_solution = {c:'*' for c in solution}\n",
    "str_solution[( 0,  0)] = 'D'\n",
    "str_solution[(14, 14)] = 'A'\n",
    "print(laby.overlay(str_solution))"
   ]
  },
  {
   "cell_type": "markdown",
   "id": "4633183d",
   "metadata": {},
   "source": [
    "### 6.2 Résolution en aveugle : « la main droite »"
   ]
  },
  {
   "cell_type": "code",
   "execution_count": 562,
   "id": "3fb106a1",
   "metadata": {},
   "outputs": [
    {
     "name": "stdout",
     "output_type": "stream",
     "text": [
      "┏━━━┳━━━┳━━━┳━━━┳━━━┳━━━┳━━━┳━━━┳━━━┳━━━┳━━━┳━━━┳━━━┳━━━┳━━━┓\n",
      "┃ D   *         ┃                                       ┃   ┃\n",
      "┣   ╋   ╋━━━╋   ╋━━━╋━━━╋   ╋━━━╋━━━╋   ╋━━━╋━━━╋━━━╋   ╋   ┫\n",
      "┃   ┃ *   * ┃           ┃       ┃       ┃       ┃           ┃\n",
      "┣   ╋━━━╋   ╋━━━╋━━━╋   ╋━━━╋━━━╋   ╋━━━╋   ╋   ╋━━━╋━━━╋   ┫\n",
      "┃   ┃ *   * ┃       ┃   ┃           ┃       ┃           ┃   ┃\n",
      "┣   ╋   ╋━━━╋━━━╋   ╋   ╋   ╋━━━╋━━━╋   ╋━━━╋━━━╋━━━╋   ╋━━━┫\n",
      "┃   ┃ * ┃           ┃   ┃   ┃           ┃           ┃       ┃\n",
      "┣   ╋   ╋━━━╋   ╋━━━╋   ╋   ╋   ╋━━━╋━━━╋   ╋━━━╋   ╋━━━╋   ┫\n",
      "┃   ┃ *   * ┃           ┃   ┃   ┃       ┃       ┃       ┃   ┃\n",
      "┣   ╋━━━╋   ╋   ╋━━━╋━━━╋   ╋   ╋   ╋   ╋━━━╋   ╋   ╋━━━╋   ┫\n",
      "┃   ┃   ┃ * ┃   ┃           ┃   ┃   ┃   ┃       ┃   ┃       ┃\n",
      "┣   ╋   ╋   ╋   ╋━━━╋   ╋━━━╋   ╋   ╋   ╋━━━╋━━━╋   ╋   ╋━━━┫\n",
      "┃   ┃   ┃ * ┃           ┃       ┃   ┃               ┃   ┃   ┃\n",
      "┣   ╋   ╋   ╋━━━╋━━━╋━━━╋━━━╋━━━╋   ╋━━━╋━━━╋━━━╋   ╋   ╋   ┫\n",
      "┃       ┃ *   *   *   * ┃                   ┃       ┃       ┃\n",
      "┣━━━╋   ╋━━━╋━━━╋━━━╋   ╋   ╋━━━╋━━━╋━━━╋   ╋━━━╋━━━╋━━━╋   ┫\n",
      "┃   ┃   ┃       ┃ *   * ┃               ┃   ┃           ┃   ┃\n",
      "┣   ╋   ╋   ╋━━━╋   ╋   ╋━━━╋━━━╋━━━╋   ╋   ╋   ╋━━━╋   ╋   ┫\n",
      "┃       ┃   ┃ *   * ┃       ┃           ┃       ┃   ┃   ┃   ┃\n",
      "┣   ╋━━━╋   ╋   ╋━━━╋━━━╋   ╋   ╋━━━╋━━━╋━━━╋━━━╋   ╋   ╋   ┫\n",
      "┃   ┃       ┃ *   * ┃       ┃   ┃           ┃       ┃       ┃\n",
      "┣   ╋━━━╋   ╋━━━╋   ╋━━━╋━━━╋   ╋   ╋━━━╋   ╋   ╋   ╋━━━╋━━━┫\n",
      "┃       ┃       ┃ *   * ┃       ┃       ┃       ┃           ┃\n",
      "┣━━━╋   ╋━━━╋   ╋━━━╋   ╋   ╋━━━╋━━━╋━━━╋━━━╋━━━╋━━━╋━━━╋   ┫\n",
      "┃   ┃           ┃ *   * ┃           ┃ *   * ┃ *   *   * ┃   ┃\n",
      "┣   ╋━━━╋━━━╋   ╋   ╋━━━╋━━━╋━━━╋   ╋   ╋   ╋   ╋━━━╋   ╋   ┫\n",
      "┃           ┃   ┃ *   * ┃           ┃ * ┃ * ┃ * ┃   ┃ * ┃   ┃\n",
      "┣   ╋━━━╋   ╋   ╋━━━╋   ╋   ╋━━━╋━━━╋   ╋   ╋   ╋   ╋   ╋   ┫\n",
      "┃       ┃           ┃ *   *   *   *   * ┃ *   * ┃     *   A ┃\n",
      "┗━━━┻━━━┻━━━┻━━━┻━━━┻━━━┻━━━┻━━━┻━━━┻━━━┻━━━┻━━━┻━━━┻━━━┻━━━┛\n",
      "\n"
     ]
    }
   ],
   "source": [
    "laby = Maze.gen_exploration(15, 15)\n",
    "solution = laby.solve_rhr((0, 0), (14, 14))\n",
    "str_solution = {c:'*' for c in solution}\n",
    "str_solution[( 0,  0)] = 'D'\n",
    "str_solution[(14, 14)] = 'A'\n",
    "print(laby.overlay(str_solution))"
   ]
  },
  {
   "cell_type": "code",
   "execution_count": null,
   "id": "b9a41746",
   "metadata": {},
   "outputs": [],
   "source": []
  },
  {
   "cell_type": "code",
   "execution_count": null,
   "id": "55a838b3",
   "metadata": {},
   "outputs": [],
   "source": []
  }
 ],
 "metadata": {
  "kernelspec": {
   "display_name": "Python 3 (ipykernel)",
   "language": "python",
   "name": "python3"
  },
  "language_info": {
   "codemirror_mode": {
    "name": "ipython",
    "version": 3
   },
   "file_extension": ".py",
   "mimetype": "text/x-python",
   "name": "python",
   "nbconvert_exporter": "python",
   "pygments_lexer": "ipython3",
   "version": "3.8.10"
  }
 },
 "nbformat": 4,
 "nbformat_minor": 5
}
