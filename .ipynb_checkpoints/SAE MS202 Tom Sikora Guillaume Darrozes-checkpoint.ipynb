{
 "cells": [
  {
   "cell_type": "markdown",
   "id": "5b29910e",
   "metadata": {},
   "source": [
    "# SAÉ S2 : LABYRINTHES"
   ]
  },
  {
   "cell_type": "markdown",
   "id": "adf4fed0",
   "metadata": {},
   "source": [
    "# Millésime 2023"
   ]
  },
  {
   "cell_type": "code",
   "execution_count": 1,
   "id": "51a28b7d",
   "metadata": {},
   "outputs": [],
   "source": [
    "# encoding:utf-8\n",
    "#    _     __  __   _    _______   _                  _   _\n",
    "#   /_\\   |  \\/  | /_\\  |_  / __| (_)_ _    _ __ _  _| |_| |_  ___ _ _\n",
    "#  / _ \\  | |\\/| |/ _ \\  / /| _|  | | ' \\  | '_ \\ || |  _| ' \\/ _ \\ ' \\\n",
    "# /_/ \\_\\ |_|  |_/_/ \\_\\/___|___| |_|_||_| | .__/\\_, |\\__|_||_\\___/_||_|\n",
    "#                                          |_|   |__/\n",
    "# sae@butinfo:~$"
   ]
  },
  {
   "cell_type": "code",
   "execution_count": null,
   "id": "afaa29e9",
   "metadata": {},
   "outputs": [],
   "source": []
  }
 ],
 "metadata": {
  "kernelspec": {
   "display_name": "Python 3 (ipykernel)",
   "language": "python",
   "name": "python3"
  },
  "language_info": {
   "codemirror_mode": {
    "name": "ipython",
    "version": 3
   },
   "file_extension": ".py",
   "mimetype": "text/x-python",
   "name": "python",
   "nbconvert_exporter": "python",
   "pygments_lexer": "ipython3",
   "version": "3.8.10"
  }
 },
 "nbformat": 4,
 "nbformat_minor": 5
}
