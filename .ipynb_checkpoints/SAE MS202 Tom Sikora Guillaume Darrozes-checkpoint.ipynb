{
 "cells": [
  {
   "cell_type": "markdown",
   "id": "ede19898",
   "metadata": {},
   "source": [
    "# SAÉ S2 : LABYRINTHES"
   ]
  },
  {
   "cell_type": "markdown",
   "id": "2b53cb37",
   "metadata": {},
   "source": [
    "# Millésime 2023"
   ]
  },
  {
   "cell_type": "code",
   "execution_count": 1,
   "id": "f34e21c3",
   "metadata": {},
   "outputs": [],
   "source": [
    "# encoding:utf-8\n",
    "#    _     __  __   _    _______   _                  _   _\n",
    "#   /_\\   |  \\/  | /_\\  |_  / __| (_)_ _    _ __ _  _| |_| |_  ___ _ _\n",
    "#  / _ \\  | |\\/| |/ _ \\  / /| _|  | | ' \\  | '_ \\ || |  _| ' \\/ _ \\ ' \\\n",
    "# /_/ \\_\\ |_|  |_/_/ \\_\\/___|___| |_|_||_| | .__/\\_, |\\__|_||_\\___/_||_|\n",
    "#                                          |_|   |__/\n",
    "# sae@butinfo:~$"
   ]
  },
  {
   "cell_type": "code",
   "execution_count": 72,
   "id": "02f7a17b",
   "metadata": {},
   "outputs": [],
   "source": [
    "from random import randint, choice"
   ]
  },
  {
   "cell_type": "markdown",
   "id": "496730ff",
   "metadata": {},
   "source": [
    "## 3 Implémentation"
   ]
  },
  {
   "cell_type": "code",
   "execution_count": 73,
   "id": "9df12549",
   "metadata": {},
   "outputs": [],
   "source": [
    "class Maze:\n",
    "    \"\"\"\n",
    "    Classe Labyrinthe\n",
    "    Représentation sous forme de graphe non-orienté\n",
    "    dont chaque sommet est une cellule (un tuple (l,c))\n",
    "    et dont la structure est représentée par un dictionnaire\n",
    "      - clés : sommets\n",
    "      - valeurs : ensemble des sommets voisins accessibles\n",
    "    \"\"\"\n",
    "    def __init__(self, height: int, width: int, empty: bool = False) -> None:\n",
    "        \"\"\"\n",
    "        Constructeur d'un labyrinthe de height cellules de haut \n",
    "        et de width cellules de large \n",
    "        Les voisinages sont initialisés à des ensembles vides\n",
    "        Remarque : dans le labyrinthe créé, chaque cellule est complètement emmurée\n",
    "        \"\"\"\n",
    "        self.height    = height\n",
    "        self.width     = width\n",
    "        self.neighbors = {(i,j): set() for i in range(height) for j in range (width)}\n",
    "        if empty:\n",
    "            for i in range(height):\n",
    "                for j in range(width):\n",
    "                    if i > 0:\n",
    "                        self.neighbors[(i,j)].add((i-1,j))\n",
    "                        self.neighbors[(i-1,j)].add((i,j))\n",
    "                    if j > 0:\n",
    "                        self.neighbors[(i,j)].add((i,j-1))\n",
    "                        self.neighbors[(i,j-1)].add((i,j))\n",
    "                    if i < height-1:\n",
    "                        self.neighbors[(i,j)].add((i+1,j))\n",
    "                        self.neighbors[(i+1,j)].add((i,j))\n",
    "                    if j < width-1:\n",
    "                        self.neighbors[(i,j)].add((i,j+1))\n",
    "                        self.neighbors[(i,j+1)].add((i,j))\n",
    "        \n",
    "    def info(self) -> str:\n",
    "        \"\"\"\n",
    "        Affichage des attributs d'un objet 'Maze' (fonction utile pour deboguer)\n",
    "        Retour:\n",
    "            chaîne (string): description textuelle des attributs de l'objet\n",
    "        \"\"\"\n",
    "        txt = \"**Informations sur le labyrinthe**\\n\"\n",
    "        txt += f\"- Dimensions de la grille : {self.height} x {self.width}\\n\"\n",
    "        txt += \"- Voisinages :\\n\"\n",
    "        txt += str(self.neighbors)+\"\\n\"\n",
    "        valid = True\n",
    "        for c1 in {(i, j) for i in range(self.height) for j in range(self.width)}:\n",
    "            for c2 in self.neighbors[c1]:\n",
    "                if c1 not in self.neighbors[c2]:\n",
    "                    valid = False\n",
    "                    break\n",
    "            else:\n",
    "                continue\n",
    "            break\n",
    "        txt += \"- Structure cohérente\\n\" if valid else f\"- Structure incohérente : {c1} X {c2}\\n\"\n",
    "        return txt\n",
    "\n",
    "    def __str__(self) -> str:\n",
    "        \"\"\"\n",
    "        Représentation textuelle d'un objet Maze (en utilisant des caractères ascii)\n",
    "        Retour:\n",
    "             chaîne (str) : chaîne de caractères représentant le labyrinthe\n",
    "        \"\"\"\n",
    "        txt = \"\"\n",
    "        # Première ligne\n",
    "        txt += \"┏\"\n",
    "        for j in range(self.width-1):\n",
    "            txt += \"━━━┳\"\n",
    "        txt += \"━━━┓\\n\"\n",
    "        txt += \"┃\"\n",
    "        for j in range(self.width-1):\n",
    "            txt += \"   ┃\" if (0,j+1) not in self.neighbors[(0,j)] else \"    \"\n",
    "        txt += \"   ┃\\n\"\n",
    "        # Lignes normales\n",
    "        for i in range(self.height-1):\n",
    "            txt += \"┣\"\n",
    "            for j in range(self.width-1):\n",
    "                txt += \"━━━╋\" if (i+1,j) not in self.neighbors[(i,j)] else \"   ╋\"\n",
    "            txt += \"━━━┫\\n\" if (i+1,self.width-1) not in self.neighbors[(i,self.width-1)] else \"   ┫\\n\"\n",
    "            txt += \"┃\"\n",
    "            for j in range(self.width):\n",
    "                txt += \"   ┃\" if (i+1,j+1) not in self.neighbors[(i+1,j)] else \"    \"\n",
    "            txt += \"\\n\"\n",
    "        # Bas du tableau\n",
    "        txt += \"┗\"\n",
    "        for i in range(self.width-1):\n",
    "            txt += \"━━━┻\"\n",
    "        txt += \"━━━┛\\n\"\n",
    "\n",
    "        return txt\n",
    "    \n",
    "    def add_wall(self, c1: tuple, c2: tuple) -> None:\n",
    "        \"\"\"\n",
    "        Ajoute un nouveau mur entre les cellules de coordonnées c1 et c2.\n",
    "        \"\"\"\n",
    "        # Facultatif : on teste si les sommets sont bien dans le labyrinthe\n",
    "        assert 0 <= c1[0] < self.height and \\\n",
    "            0 <= c1[1] < self.width and \\\n",
    "            0 <= c2[0] < self.height and \\\n",
    "            0 <= c2[1] < self.width, \\\n",
    "            f\"Erreur lors de l'ajout d'un mur entre {c1} et {c2} : les coordonnées de sont pas compatibles avec les dimensions du labyrinthe\"\n",
    "        # Ajout du mur\n",
    "        if c2 in self.neighbors[c1]:      # Si c2 est dans les voisines de c1\n",
    "            self.neighbors[c1].remove(c2) # on le retire\n",
    "        if c1 in self.neighbors[c2]:      # Si c3 est dans les voisines de c2\n",
    "            self.neighbors[c2].remove(c1) # on le retire\n",
    "    \n",
    "    def remove_wall(self, c1: tuple, c2: tuple) -> None:\n",
    "        \"\"\"\n",
    "        Efface un mur entre les cellules de coordonnées c1 et c2.\n",
    "        \"\"\"\n",
    "        # Facultatif : on teste si les sommets sont bien dans le labyrinthe\n",
    "        assert 0 <= c1[0] < self.height and \\\n",
    "            0 <= c1[1] < self.width and \\\n",
    "            0 <= c2[0] < self.height and \\\n",
    "            0 <= c2[1] < self.width, \\\n",
    "            f\"Erreur lors de la suppression d'un mur entre {c1} et {c2} : les coordonnées de sont pas compatibles avec les dimensions du labyrinthe\"\n",
    "        # Suppression du mur\n",
    "        if c2 not in self.neighbors[c1]:  # Si c2 n'est pas dans les voisines de c1\n",
    "            self.neighbors[c1].add(c2)    # on l'ajoute\n",
    "        if c1 not in self.neighbors[c2]:  # Si c3 n'est pas dans les voisines de c2\n",
    "            self.neighbors[c2].add(c1)    # on l'ajoute\n",
    "    \n",
    "    def fill(self) -> None:\n",
    "        \"\"\"\n",
    "        Ajoute tous les murs du labyrinthe.\n",
    "        \"\"\"\n",
    "        for i in range(self.height):\n",
    "            for j in range(self.width):\n",
    "                if i > 0:\n",
    "                    self.add_wall((i,j), (i-1,j))\n",
    "                if j > 0:\n",
    "                    self.add_wall((i,j), (i,j-1))\n",
    "                if i < self.height-1:\n",
    "                    self.add_wall((i,j), (i+1,j))\n",
    "                if j < self.width-1:\n",
    "                    self.add_wall((i,j), (i,j+1))\n",
    "    \n",
    "    def empty(self) -> None:\n",
    "        \"\"\"\n",
    "        Efface tous les murs du labyrinthe.\n",
    "        \"\"\"\n",
    "        for i in range(self.height):\n",
    "            for j in range(self.width):\n",
    "                if i > 0:\n",
    "                    self.remove_wall((i,j), (i-1,j))\n",
    "                if j > 0:\n",
    "                    self.remove_wall((i,j), (i,j-1))\n",
    "                if i < self.height-1:\n",
    "                    self.remove_wall((i,j), (i+1,j))\n",
    "                if j < self.width-1:\n",
    "                    self.remove_wall((i,j), (i,j+1))\n",
    "                    \n",
    "    def get_walls(self) -> list:\n",
    "        \"\"\"\n",
    "        Affichage de tous les murs du labyrinthe.\n",
    "        Retour:\n",
    "             liste (list) : liste représentant tous les murs du labyrinthe\n",
    "        \"\"\"\n",
    "        murs = []\n",
    "        for i in range(self.height):\n",
    "            for j in range(self.width):\n",
    "                voisins = []\n",
    "                if j != self.height-1:\n",
    "                    voisins += [(i, j+1)]\n",
    "                if i != self.width-1:\n",
    "                    voisins += [(i+1, j)]\n",
    "                for k in range(len(voisins)):\n",
    "                    if voisins[k] not in self.neighbors[(i, j)]:\n",
    "                        murs.append(((i,j), voisins[k]))\n",
    "        return murs\n",
    "    \n",
    "    def get_contiguous_cells(self, c1: tuple) -> list:\n",
    "        \"\"\"\n",
    "        Affichage des murs contigus de la cellule c1 dans le labyrinthe.\n",
    "        Retour:\n",
    "             liste (list) : liste représentant les murs contigus de la cellule c1\n",
    "        \"\"\"\n",
    "        voisins = []\n",
    "        if c1[0] != self.width-1:\n",
    "            voisins += [(c1[0]+1, c1[1])]\n",
    "        if c1[1] > 0:\n",
    "            voisins += [(c1[0], c1[1]-1)]\n",
    "        if c1[1] != self.height-1:\n",
    "            voisins += [(c1[0], c1[1]+1)]\n",
    "        if c1[0] > 0:\n",
    "            voisins += [(c1[0]-1, c1[1])]\n",
    "        return voisins\n",
    "    \n",
    "    def get_reachable_cells(self, c1: tuple) -> list:\n",
    "        \"\"\"\n",
    "        Affichage des murs accessibles de la cellule c1 dans le labyrinthe.\n",
    "        Retour:\n",
    "             liste (list) : liste représentant les murs accessibles de la cellule c1\n",
    "        \"\"\"\n",
    "        accessibles = []\n",
    "        voisins = self.get_contiguous_cells(c1)\n",
    "        for i in range(len(voisins)):\n",
    "            if voisins[i] in self.neighbors[c1]:\n",
    "                        accessibles += [voisins[i]]\n",
    "        return accessibles\n",
    "    \n",
    "    @classmethod\n",
    "    def gen_btree(cls, h: int, w: int) -> list:\n",
    "        \"\"\"\n",
    "        Représentation d'un labyrinthe par algorithme de génération par arbre binaire.\n",
    "        Retour:\n",
    "             liste (list) : liste représentant un dictionnaire de cellule et de cellule(s) voisine(s)\n",
    "        \"\"\"\n",
    "        laby = Maze(h, w, empty = False)\n",
    "        for i in range(h):\n",
    "            for j in range(w):\n",
    "                if (j != h-1) and (i == w-1):\n",
    "                    laby.remove_wall((i, j), (i, j+1))\n",
    "                elif (i != w-1) and (j == h-1):\n",
    "                    laby.remove_wall((i, j), (i+1, j))\n",
    "                elif (i != w-1) and (j != h-1):\n",
    "                    hasard = randint(0,1)\n",
    "                    if hasard == 0:\n",
    "                        laby.remove_wall((i, j), (i, j+1))\n",
    "                    else:\n",
    "                        laby.remove_wall((i, j), (i+1, j))\n",
    "        return laby\n",
    "    \n",
    "    @classmethod\n",
    "    def gen_sidewinder(cls, h: int, w: int) -> list:\n",
    "        \"\"\"\n",
    "        Représentation d'un labyrinthe par algorithme de génération sidewinder.\n",
    "        Retour:\n",
    "             liste (list) : liste représentant un dictionnaire de cellule et de cellule(s) voisine(s)\n",
    "        \"\"\"\n",
    "        laby = Maze(h, w, empty = False)\n",
    "        for i in range(h-1):\n",
    "            sequence = []\n",
    "            for j in range(w-1):\n",
    "                sequence += [(i, j)]\n",
    "                hasard = randint(0,1)\n",
    "                if hasard == 0:\n",
    "                    laby.remove_wall((i, j), (i, j+1))\n",
    "                else:\n",
    "                    cell1 = choice(sequence)\n",
    "                    laby.remove_wall((cell1[0], cell1[1]), (cell1[0]+1, cell1[1]))\n",
    "                    sequence = []\n",
    "            sequence += [(i, w-1)]\n",
    "            cell2 = choice(sequence)\n",
    "            laby.remove_wall((cell2[0], cell2[1]), (cell2[0]+1, cell2[1]))\n",
    "        for k in range(w-1):\n",
    "            laby.remove_wall((h-1, k), (h-1, k+1))\n",
    "        return laby\n",
    "    \n",
    "    "
   ]
  },
  {
   "cell_type": "code",
   "execution_count": 41,
   "id": "59b311b4",
   "metadata": {},
   "outputs": [
    {
     "name": "stdout",
     "output_type": "stream",
     "text": [
      "**Informations sur le labyrinthe**\n",
      "- Dimensions de la grille : 4 x 4\n",
      "- Voisinages :\n",
      "{(0, 0): set(), (0, 1): set(), (0, 2): set(), (0, 3): set(), (1, 0): set(), (1, 1): set(), (1, 2): set(), (1, 3): set(), (2, 0): set(), (2, 1): set(), (2, 2): set(), (2, 3): set(), (3, 0): set(), (3, 1): set(), (3, 2): set(), (3, 3): set()}\n",
      "- Structure cohérente\n",
      "\n"
     ]
    }
   ],
   "source": [
    "laby = Maze(4, 4)\n",
    "print(laby.info())"
   ]
  },
  {
   "cell_type": "code",
   "execution_count": 42,
   "id": "0fa7f7e3",
   "metadata": {},
   "outputs": [
    {
     "name": "stdout",
     "output_type": "stream",
     "text": [
      "┏━━━┳━━━┳━━━┳━━━┓\n",
      "┃   ┃   ┃   ┃   ┃\n",
      "┣━━━╋━━━╋━━━╋━━━┫\n",
      "┃   ┃   ┃   ┃   ┃\n",
      "┣━━━╋━━━╋━━━╋━━━┫\n",
      "┃   ┃   ┃   ┃   ┃\n",
      "┣━━━╋━━━╋━━━╋━━━┫\n",
      "┃   ┃   ┃   ┃   ┃\n",
      "┗━━━┻━━━┻━━━┻━━━┛\n",
      "\n"
     ]
    }
   ],
   "source": [
    "print(laby)"
   ]
  },
  {
   "cell_type": "code",
   "execution_count": 43,
   "id": "6f2905f9",
   "metadata": {},
   "outputs": [],
   "source": [
    "laby.neighbors = {\n",
    "    (0, 0): {(1, 0)},\n",
    "    (0, 1): {(0, 2), (1, 1)},\n",
    "    (0, 2): {(0, 1), (0, 3)},\n",
    "    (0, 3): {(0, 2), (1, 3)},\n",
    "    (1, 0): {(2, 0), (0, 0)},\n",
    "    (1, 1): {(0, 1), (1, 2)},\n",
    "    (1, 2): {(1, 1), (2, 2)},\n",
    "    (1, 3): {(2, 3), (0, 3)},\n",
    "    (2, 0): {(1, 0), (2, 1), (3, 0)},\n",
    "    (2, 1): {(2, 0), (2, 2)},\n",
    "    (2, 2): {(1, 2), (2, 1)},\n",
    "    (2, 3): {(3, 3), (1, 3)},\n",
    "    (3, 0): {(3, 1), (2, 0)},\n",
    "    (3, 1): {(3, 2), (3, 0)},\n",
    "    (3, 2): {(3, 1)},\n",
    "    (3, 3): {(2, 3)}\n",
    "}"
   ]
  },
  {
   "cell_type": "code",
   "execution_count": 44,
   "id": "8e496ee2",
   "metadata": {},
   "outputs": [
    {
     "name": "stdout",
     "output_type": "stream",
     "text": [
      "┏━━━┳━━━┳━━━┳━━━┓\n",
      "┃   ┃           ┃\n",
      "┣   ╋   ╋━━━╋   ┫\n",
      "┃   ┃       ┃   ┃\n",
      "┣   ╋━━━╋   ╋   ┫\n",
      "┃           ┃   ┃\n",
      "┣   ╋━━━╋━━━╋   ┫\n",
      "┃           ┃   ┃\n",
      "┗━━━┻━━━┻━━━┻━━━┛\n",
      "\n"
     ]
    }
   ],
   "source": [
    "print(laby)"
   ]
  },
  {
   "cell_type": "code",
   "execution_count": 45,
   "id": "8b3ad2e8",
   "metadata": {},
   "outputs": [
    {
     "name": "stdout",
     "output_type": "stream",
     "text": [
      "┏━━━┳━━━┳━━━┳━━━┓\n",
      "┃   ┃           ┃\n",
      "┣   ╋   ╋━━━╋   ┫\n",
      "┃   ┃       ┃   ┃\n",
      "┣   ╋━━━╋   ╋━━━┫\n",
      "┃           ┃   ┃\n",
      "┣   ╋━━━╋━━━╋   ┫\n",
      "┃           ┃   ┃\n",
      "┗━━━┻━━━┻━━━┻━━━┛\n",
      "\n"
     ]
    }
   ],
   "source": [
    "laby.neighbors[(1, 3)].remove((2, 3))\n",
    "laby.neighbors[(2, 3)].remove((1, 3))\n",
    "print(laby)"
   ]
  },
  {
   "cell_type": "code",
   "execution_count": 46,
   "id": "42883fb7",
   "metadata": {},
   "outputs": [
    {
     "name": "stdout",
     "output_type": "stream",
     "text": [
      "┏━━━┳━━━┳━━━┳━━━┓\n",
      "┃   ┃           ┃\n",
      "┣   ╋   ╋━━━╋   ┫\n",
      "┃   ┃       ┃   ┃\n",
      "┣   ╋━━━╋   ╋   ┫\n",
      "┃           ┃   ┃\n",
      "┣   ╋━━━╋━━━╋   ┫\n",
      "┃           ┃   ┃\n",
      "┗━━━┻━━━┻━━━┻━━━┛\n",
      "\n"
     ]
    }
   ],
   "source": [
    "laby.neighbors[(1, 3)].add((2, 3))\n",
    "laby.neighbors[(2, 3)].add((1, 3))\n",
    "print(laby)"
   ]
  },
  {
   "cell_type": "code",
   "execution_count": 47,
   "id": "1901f413",
   "metadata": {},
   "outputs": [
    {
     "name": "stdout",
     "output_type": "stream",
     "text": [
      "┏━━━┳━━━┳━━━┳━━━┓\n",
      "┃   ┃           ┃\n",
      "┣   ╋   ╋━━━╋   ┫\n",
      "┃   ┃       ┃   ┃\n",
      "┣   ╋━━━╋   ╋━━━┫\n",
      "┃           ┃   ┃\n",
      "┣   ╋━━━╋━━━╋   ┫\n",
      "┃           ┃   ┃\n",
      "┗━━━┻━━━┻━━━┻━━━┛\n",
      "\n",
      "**Informations sur le labyrinthe**\n",
      "- Dimensions de la grille : 4 x 4\n",
      "- Voisinages :\n",
      "{(0, 0): {(1, 0)}, (0, 1): {(1, 1), (0, 2)}, (0, 2): {(0, 1), (0, 3)}, (0, 3): {(0, 2), (1, 3)}, (1, 0): {(2, 0), (0, 0)}, (1, 1): {(0, 1), (1, 2)}, (1, 2): {(1, 1), (2, 2)}, (1, 3): {(0, 3)}, (2, 0): {(1, 0), (2, 1), (3, 0)}, (2, 1): {(2, 0), (2, 2)}, (2, 2): {(1, 2), (2, 1)}, (2, 3): {(3, 3), (1, 3)}, (3, 0): {(3, 1), (2, 0)}, (3, 1): {(3, 2), (3, 0)}, (3, 2): {(3, 1)}, (3, 3): {(2, 3)}}\n",
      "- Structure incohérente : (2, 3) X (1, 3)\n",
      "\n"
     ]
    }
   ],
   "source": [
    "laby.neighbors[(1, 3)].remove((2, 3))\n",
    "print(laby)\n",
    "print(laby.info())"
   ]
  },
  {
   "cell_type": "code",
   "execution_count": 48,
   "id": "61a24358",
   "metadata": {},
   "outputs": [],
   "source": [
    "laby.neighbors[(2, 3)].remove((1,3))"
   ]
  },
  {
   "cell_type": "code",
   "execution_count": 49,
   "id": "c9ffe6f8",
   "metadata": {},
   "outputs": [
    {
     "name": "stdout",
     "output_type": "stream",
     "text": [
      "Il y a un mur entre (1, 3) et (2, 3) car (1, 3) n'est pas dans le voisinage de (2, 3) et (2, 3) n'est pas dans le voisinage de (1, 3)\n"
     ]
    }
   ],
   "source": [
    "c1 = (1, 3)\n",
    "c2 = (2, 3)\n",
    "if c1 in laby.neighbors[c2] and c2 in laby.neighbors[c1]:\n",
    "    print(f\"Il n'y a pas de mur entre {c1} et {c2} car elles sont mutuellement voisines\")\n",
    "elif c1 not in laby.neighbors[c2] and c2 not in laby.neighbors[c1]:\n",
    "    print(f\"Il y a un mur entre {c1} et {c2} car {c1} n'est pas dans le voisinage de {c2} et {c2} n'est pas dans le voisinage de {c1}\")\n",
    "else:\n",
    "    print(f\"Il y a une incohérence de réciprocité des voisinages de {c1} et {c2}\")"
   ]
  },
  {
   "cell_type": "code",
   "execution_count": 50,
   "id": "0d3cb201",
   "metadata": {},
   "outputs": [
    {
     "name": "stdout",
     "output_type": "stream",
     "text": [
      "(1, 3) n'est pas accessible depuis (2, 3) et vice-versa\n"
     ]
    }
   ],
   "source": [
    "c1 = (1, 3)\n",
    "c2 = (2, 3)\n",
    "if c1 in laby.neighbors[c2] and c2 in laby.neighbors[c1]:\n",
    "    print(f\"{c1} est accessible depuis {c2} et vice-versa\")\n",
    "elif c1 not in laby.neighbors[c2] and c2 not in laby.neighbors[c1]:\n",
    "    print(f\"{c1} n'est pas accessible depuis {c2} et vice-versa\")\n",
    "else:\n",
    "    print(f\"Il y a une incohérence de réciprocité des voisinages de {c1} et {c2}\")"
   ]
  },
  {
   "cell_type": "code",
   "execution_count": 51,
   "id": "09e49883",
   "metadata": {},
   "outputs": [
    {
     "name": "stdout",
     "output_type": "stream",
     "text": [
      "Liste des cellules : \n",
      "[(0, 0), (0, 1), (0, 2), (0, 3), (1, 0), (1, 1), (1, 2), (1, 3), (2, 0), (2, 1), (2, 2), (2, 3), (3, 0), (3, 1), (3, 2), (3, 3)]\n"
     ]
    }
   ],
   "source": [
    "L = []\n",
    "for i in range(laby.height):\n",
    "    for j in range(laby.width):\n",
    "        L.append((i,j))\n",
    "print(f\"Liste des cellules : \\n{L}\")"
   ]
  },
  {
   "cell_type": "code",
   "execution_count": 52,
   "id": "b704ef10",
   "metadata": {},
   "outputs": [
    {
     "name": "stdout",
     "output_type": "stream",
     "text": [
      "┏━━━┳━━━┳━━━┳━━━┓\n",
      "┃               ┃\n",
      "┣   ╋   ╋   ╋   ┫\n",
      "┃               ┃\n",
      "┣   ╋   ╋   ╋   ┫\n",
      "┃               ┃\n",
      "┣   ╋   ╋   ╋   ┫\n",
      "┃               ┃\n",
      "┗━━━┻━━━┻━━━┻━━━┛\n",
      "\n"
     ]
    }
   ],
   "source": [
    "laby = Maze(4, 4, empty = True)\n",
    "print(laby)"
   ]
  },
  {
   "cell_type": "code",
   "execution_count": 53,
   "id": "e2c13967",
   "metadata": {},
   "outputs": [
    {
     "name": "stdout",
     "output_type": "stream",
     "text": [
      "┏━━━┳━━━┳━━━┳━━━┓\n",
      "┃   ┃   ┃   ┃   ┃\n",
      "┣━━━╋━━━╋━━━╋━━━┫\n",
      "┃   ┃   ┃   ┃   ┃\n",
      "┣━━━╋━━━╋━━━╋━━━┫\n",
      "┃   ┃   ┃   ┃   ┃\n",
      "┣━━━╋━━━╋━━━╋━━━┫\n",
      "┃   ┃   ┃   ┃   ┃\n",
      "┗━━━┻━━━┻━━━┻━━━┛\n",
      "\n"
     ]
    }
   ],
   "source": [
    "laby = Maze(4, 4, empty = False)\n",
    "print(laby)"
   ]
  },
  {
   "cell_type": "markdown",
   "id": "7d2de8ab",
   "metadata": {},
   "source": [
    "## 4 Manipulation de labyrinthes"
   ]
  },
  {
   "cell_type": "code",
   "execution_count": 54,
   "id": "ad290e9d",
   "metadata": {},
   "outputs": [
    {
     "name": "stdout",
     "output_type": "stream",
     "text": [
      "┏━━━┳━━━┳━━━┳━━━┳━━━┓\n",
      "┃                   ┃\n",
      "┣   ╋   ╋   ╋   ╋   ┫\n",
      "┃                   ┃\n",
      "┣   ╋   ╋   ╋   ╋   ┫\n",
      "┃                   ┃\n",
      "┣   ╋   ╋   ╋   ╋   ┫\n",
      "┃                   ┃\n",
      "┣   ╋   ╋   ╋   ╋   ┫\n",
      "┃                   ┃\n",
      "┗━━━┻━━━┻━━━┻━━━┻━━━┛\n",
      "\n"
     ]
    }
   ],
   "source": [
    "laby = Maze(5, 5, empty = True)\n",
    "print(laby)"
   ]
  },
  {
   "cell_type": "code",
   "execution_count": 55,
   "id": "4c9aab68",
   "metadata": {},
   "outputs": [
    {
     "name": "stdout",
     "output_type": "stream",
     "text": [
      "┏━━━┳━━━┳━━━┳━━━┳━━━┓\n",
      "┃   ┃               ┃\n",
      "┣   ╋   ╋   ╋   ╋   ┫\n",
      "┃                   ┃\n",
      "┣   ╋   ╋   ╋   ╋   ┫\n",
      "┃                   ┃\n",
      "┣   ╋   ╋   ╋   ╋   ┫\n",
      "┃                   ┃\n",
      "┣   ╋   ╋   ╋   ╋   ┫\n",
      "┃                   ┃\n",
      "┗━━━┻━━━┻━━━┻━━━┻━━━┛\n",
      "\n"
     ]
    }
   ],
   "source": [
    "laby.add_wall((0,0), (0,1))\n",
    "print(laby)"
   ]
  },
  {
   "cell_type": "code",
   "execution_count": 56,
   "id": "f2728b33",
   "metadata": {},
   "outputs": [
    {
     "name": "stdout",
     "output_type": "stream",
     "text": [
      "┏━━━┳━━━┳━━━┳━━━┳━━━┓\n",
      "┃   ┃   ┃   ┃   ┃   ┃\n",
      "┣━━━╋━━━╋━━━╋━━━╋━━━┫\n",
      "┃   ┃   ┃   ┃   ┃   ┃\n",
      "┣━━━╋━━━╋━━━╋━━━╋━━━┫\n",
      "┃   ┃   ┃   ┃   ┃   ┃\n",
      "┣━━━╋━━━╋━━━╋━━━╋━━━┫\n",
      "┃   ┃   ┃   ┃   ┃   ┃\n",
      "┣━━━╋━━━╋━━━╋━━━╋━━━┫\n",
      "┃   ┃   ┃   ┃   ┃   ┃\n",
      "┗━━━┻━━━┻━━━┻━━━┻━━━┛\n",
      "\n"
     ]
    }
   ],
   "source": [
    "laby = Maze(5, 5, empty = True)\n",
    "laby.fill()\n",
    "print(laby)"
   ]
  },
  {
   "cell_type": "code",
   "execution_count": 57,
   "id": "fc828832",
   "metadata": {},
   "outputs": [
    {
     "name": "stdout",
     "output_type": "stream",
     "text": [
      "┏━━━┳━━━┳━━━┳━━━┳━━━┓\n",
      "┃       ┃   ┃   ┃   ┃\n",
      "┣━━━╋━━━╋━━━╋━━━╋━━━┫\n",
      "┃   ┃   ┃   ┃   ┃   ┃\n",
      "┣━━━╋━━━╋━━━╋━━━╋━━━┫\n",
      "┃   ┃   ┃   ┃   ┃   ┃\n",
      "┣━━━╋━━━╋━━━╋━━━╋━━━┫\n",
      "┃   ┃   ┃   ┃   ┃   ┃\n",
      "┣━━━╋━━━╋━━━╋━━━╋━━━┫\n",
      "┃   ┃   ┃   ┃   ┃   ┃\n",
      "┗━━━┻━━━┻━━━┻━━━┻━━━┛\n",
      "\n"
     ]
    }
   ],
   "source": [
    "laby.remove_wall((0, 0), (0, 1))\n",
    "print(laby)"
   ]
  },
  {
   "cell_type": "code",
   "execution_count": 58,
   "id": "1233d02c",
   "metadata": {},
   "outputs": [
    {
     "name": "stdout",
     "output_type": "stream",
     "text": [
      "┏━━━┳━━━┳━━━┳━━━┳━━━┓\n",
      "┃   ┃               ┃\n",
      "┣   ╋━━━╋   ╋   ╋   ┫\n",
      "┃                   ┃\n",
      "┣   ╋   ╋   ╋   ╋   ┫\n",
      "┃                   ┃\n",
      "┣   ╋   ╋   ╋   ╋   ┫\n",
      "┃                   ┃\n",
      "┣   ╋   ╋   ╋   ╋   ┫\n",
      "┃                   ┃\n",
      "┗━━━┻━━━┻━━━┻━━━┻━━━┛\n",
      "\n"
     ]
    }
   ],
   "source": [
    "laby.empty()\n",
    "laby.add_wall((0, 0), (0, 1))\n",
    "laby.add_wall((0, 1), (1, 1))\n",
    "print(laby)"
   ]
  },
  {
   "cell_type": "code",
   "execution_count": 59,
   "id": "4f13d6cd",
   "metadata": {},
   "outputs": [
    {
     "name": "stdout",
     "output_type": "stream",
     "text": [
      "[((0, 0), (0, 1)), ((0, 1), (1, 1))]\n"
     ]
    }
   ],
   "source": [
    "print(laby.get_walls())"
   ]
  },
  {
   "cell_type": "code",
   "execution_count": 60,
   "id": "14210002",
   "metadata": {},
   "outputs": [
    {
     "name": "stdout",
     "output_type": "stream",
     "text": [
      "[(1, 1), (0, 0), (0, 2)]\n"
     ]
    }
   ],
   "source": [
    "print(laby.get_contiguous_cells((0,1)))"
   ]
  },
  {
   "cell_type": "code",
   "execution_count": 61,
   "id": "5562c069",
   "metadata": {},
   "outputs": [
    {
     "name": "stdout",
     "output_type": "stream",
     "text": [
      "[(0, 2)]\n"
     ]
    }
   ],
   "source": [
    "print(laby.get_reachable_cells((0,1)))"
   ]
  },
  {
   "cell_type": "markdown",
   "id": "c1ee1e48",
   "metadata": {},
   "source": [
    "## 5 Génération"
   ]
  },
  {
   "cell_type": "markdown",
   "id": "14e1f9b6",
   "metadata": {},
   "source": [
    "### 5.1 Arbre binaire"
   ]
  },
  {
   "cell_type": "code",
   "execution_count": 68,
   "id": "47a0b7da",
   "metadata": {},
   "outputs": [
    {
     "name": "stdout",
     "output_type": "stream",
     "text": [
      "┏━━━┳━━━┳━━━┳━━━┓\n",
      "┃   ┃   ┃       ┃\n",
      "┣   ╋   ╋━━━╋   ┫\n",
      "┃   ┃       ┃   ┃\n",
      "┣   ╋━━━╋   ╋   ┫\n",
      "┃       ┃       ┃\n",
      "┣━━━╋   ╋━━━╋   ┫\n",
      "┃               ┃\n",
      "┗━━━┻━━━┻━━━┻━━━┛\n",
      "\n"
     ]
    }
   ],
   "source": [
    "laby = Maze.gen_btree(4, 4)\n",
    "print(laby)"
   ]
  },
  {
   "cell_type": "markdown",
   "id": "7a67e756",
   "metadata": {},
   "source": [
    "### 5.2 Sidewinder"
   ]
  },
  {
   "cell_type": "code",
   "execution_count": 78,
   "id": "8ac88795",
   "metadata": {},
   "outputs": [
    {
     "name": "stdout",
     "output_type": "stream",
     "text": [
      "┏━━━┳━━━┳━━━┳━━━┓\n",
      "┃       ┃   ┃   ┃\n",
      "┣   ╋━━━╋   ╋   ┫\n",
      "┃   ┃   ┃   ┃   ┃\n",
      "┣   ╋   ╋   ╋   ┫\n",
      "┃   ┃   ┃       ┃\n",
      "┣   ╋   ╋━━━╋   ┫\n",
      "┃               ┃\n",
      "┗━━━┻━━━┻━━━┻━━━┛\n",
      "\n"
     ]
    }
   ],
   "source": [
    "laby = Maze.gen_sidewinder(4, 4)\n",
    "print(laby)"
   ]
  },
  {
   "cell_type": "code",
   "execution_count": null,
   "id": "a697b3c1",
   "metadata": {},
   "outputs": [],
   "source": []
  },
  {
   "cell_type": "code",
   "execution_count": null,
   "id": "9143b2cb",
   "metadata": {},
   "outputs": [],
   "source": []
  },
  {
   "cell_type": "code",
   "execution_count": null,
   "id": "0388c81a",
   "metadata": {},
   "outputs": [],
   "source": []
  },
  {
   "cell_type": "code",
   "execution_count": null,
   "id": "bd4ec204",
   "metadata": {},
   "outputs": [],
   "source": []
  },
  {
   "cell_type": "code",
   "execution_count": null,
   "id": "3c1c005f",
   "metadata": {},
   "outputs": [],
   "source": []
  },
  {
   "cell_type": "code",
   "execution_count": null,
   "id": "b97e524e",
   "metadata": {},
   "outputs": [],
   "source": []
  },
  {
   "cell_type": "code",
   "execution_count": null,
   "id": "a12543c1",
   "metadata": {},
   "outputs": [],
   "source": []
  },
  {
   "cell_type": "code",
   "execution_count": null,
   "id": "5ac91844",
   "metadata": {},
   "outputs": [],
   "source": []
  },
  {
   "cell_type": "code",
   "execution_count": null,
   "id": "be8428bf",
   "metadata": {},
   "outputs": [],
   "source": []
  },
  {
   "cell_type": "code",
   "execution_count": null,
   "id": "523d892c",
   "metadata": {},
   "outputs": [],
   "source": []
  },
  {
   "cell_type": "code",
   "execution_count": null,
   "id": "3483f0fb",
   "metadata": {},
   "outputs": [],
   "source": []
  },
  {
   "cell_type": "code",
   "execution_count": null,
   "id": "c60cb947",
   "metadata": {},
   "outputs": [],
   "source": []
  },
  {
   "cell_type": "code",
   "execution_count": null,
   "id": "bc4fc33d",
   "metadata": {},
   "outputs": [],
   "source": []
  },
  {
   "cell_type": "code",
   "execution_count": null,
   "id": "ffc6baa3",
   "metadata": {},
   "outputs": [],
   "source": []
  },
  {
   "cell_type": "code",
   "execution_count": null,
   "id": "9f8e1b4f",
   "metadata": {},
   "outputs": [],
   "source": []
  },
  {
   "cell_type": "code",
   "execution_count": null,
   "id": "0d3c62f1",
   "metadata": {},
   "outputs": [],
   "source": []
  }
 ],
 "metadata": {
  "kernelspec": {
   "display_name": "Python 3 (ipykernel)",
   "language": "python",
   "name": "python3"
  },
  "language_info": {
   "codemirror_mode": {
    "name": "ipython",
    "version": 3
   },
   "file_extension": ".py",
   "mimetype": "text/x-python",
   "name": "python",
   "nbconvert_exporter": "python",
   "pygments_lexer": "ipython3",
   "version": "3.8.10"
  }
 },
 "nbformat": 4,
 "nbformat_minor": 5
}
